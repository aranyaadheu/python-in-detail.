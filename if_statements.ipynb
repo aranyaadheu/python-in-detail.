{
  "nbformat": 4,
  "nbformat_minor": 0,
  "metadata": {
    "colab": {
      "provenance": [],
      "authorship_tag": "ABX9TyN1JxBn9vtFpIHqMWqvLZpV",
      "include_colab_link": true
    },
    "kernelspec": {
      "name": "python3",
      "display_name": "Python 3"
    },
    "language_info": {
      "name": "python"
    }
  },
  "cells": [
    {
      "cell_type": "markdown",
      "metadata": {
        "id": "view-in-github",
        "colab_type": "text"
      },
      "source": [
        "<a href=\"https://colab.research.google.com/github/aranyaadheu/python-in-detail.-/blob/main/if_statements.ipynb\" target=\"_parent\"><img src=\"https://colab.research.google.com/assets/colab-badge.svg\" alt=\"Open In Colab\"/></a>"
      ]
    },
    {
      "cell_type": "markdown",
      "source": [
        "**If statements: conditional_test in detail.**\n",
        "\n"
      ],
      "metadata": {
        "id": "k1XQCFDGjU5V"
      }
    },
    {
      "cell_type": "code",
      "source": [
        "# can apply conditions in a programm\n",
        "# simple example\n",
        "\n",
        "cars = ['audi', 'bmw', 'nissan', 'toyota', 'tesla']\n",
        "\n",
        "for car in cars:\n",
        "  if car == 'bmw':\n",
        "    print(car.upper())\n",
        "  else:\n",
        "    print(car.title()) #title case\n",
        "\n",
        "# conditional tests.\n",
        "# checking for equality.\n",
        "\n",
        "car = 'bmw'\n",
        "car == 'bmw' # (==) equality operator\n",
        "\n",
        "print()\n",
        "# inequality operator (!=)\n",
        "\n",
        "ordered_cake = 'vanilla'\n",
        "if ordered_cake != 'strawberry':\n",
        "  print(\"Hold the strawberries!\")\n",
        "print()\n",
        "\n",
        "# numerical comparisons.\n",
        "\n",
        "answer = 17\n",
        "if answer != 29:\n",
        "  print(\"This is not the correct answer. Try again!\")\n",
        "\n",
        "\n"
      ],
      "metadata": {
        "colab": {
          "base_uri": "https://localhost:8080/"
        },
        "id": "9LnoHNu4jjg2",
        "outputId": "dfc362f5-f793-497f-aeb6-1fd4479d63de"
      },
      "execution_count": 35,
      "outputs": [
        {
          "output_type": "stream",
          "name": "stdout",
          "text": [
            "Audi\n",
            "BMW\n",
            "Nissan\n",
            "Toyota\n",
            "Tesla\n",
            "\n",
            "Hold the strawberries!\n",
            "\n",
            "This is not the correct answer. Try again!\n"
          ]
        }
      ]
    },
    {
      "cell_type": "markdown",
      "source": [
        "**Simple if Statements.**\n"
      ],
      "metadata": {
        "id": "U-Ge9aqCfAvc"
      }
    },
    {
      "cell_type": "code",
      "source": [
        "# voting\n",
        "\n",
        "age = 19\n",
        "if age >= 18:\n",
        "  print(\"You're old enough to vote!\")\n",
        "  print(\"Have you registered to vote yet?\")\n",
        "print()\n",
        "\n",
        "value = 12\n",
        "if value >= 10:\n",
        "  print(\"You're guess isn't right. \")\n",
        "print()\n",
        "\n",
        "age = 17\n",
        "if age >= 18:\n",
        "  print(\"You're old enough to vote!\")\n",
        "  print(\"Have you registered to vote yet?\")\n",
        "else:\n",
        "  print(\"Sorry, you are too young to vote.\")\n",
        "  print(\"Please register to vote as soon as you turn 18!\")\n"
      ],
      "metadata": {
        "colab": {
          "base_uri": "https://localhost:8080/"
        },
        "id": "xyUBXBEtfItf",
        "outputId": "ccca9ef5-2650-4eeb-9c12-721e837a3418"
      },
      "execution_count": 36,
      "outputs": [
        {
          "output_type": "stream",
          "name": "stdout",
          "text": [
            "You're old enough to vote!\n",
            "Have you registered to vote yet?\n",
            "\n",
            "You're guess isn't right. \n",
            "\n",
            "Sorry, you are too young to vote.\n",
            "Please register to vote as soon as you turn 18!\n"
          ]
        }
      ]
    },
    {
      "cell_type": "markdown",
      "source": [
        "**The if-elif-else Chain**"
      ],
      "metadata": {
        "id": "6UiyciG-iTuR"
      }
    },
    {
      "cell_type": "code",
      "source": [
        "'''\n",
        "consider an amusement park that charges different rates for\n",
        "different age groups:\n",
        "•\t Admission for anyone under age 4 is free.\n",
        "•\t Admission for anyone between the ages of 4 and 18 is $25.\n",
        "•\t Admission for anyone age 18 or older is $40.\n",
        "\n",
        "'''\n",
        "\n",
        "age = 12\n",
        "if age < 4:\n",
        "  print(\"Your admission cost is $0.\")\n",
        "elif age < 18:\n",
        "  print(\"Your admision cost is $25.\")\n",
        "else:\n",
        "  print(\"Your admission cost is $40.\")\n",
        "\n"
      ],
      "metadata": {
        "colab": {
          "base_uri": "https://localhost:8080/"
        },
        "id": "UJ5LR3-tiZr3",
        "outputId": "d7ba8d03-3d9d-44e0-f764-d07df4cf7ca8"
      },
      "execution_count": 37,
      "outputs": [
        {
          "output_type": "stream",
          "name": "stdout",
          "text": [
            "Your admision cost is $25.\n"
          ]
        }
      ]
    },
    {
      "cell_type": "code",
      "source": [
        "# if-elif-else Chain example\n",
        "# more concise code.\n",
        "age = 12\n",
        "if age < 4:\n",
        "  price = 0\n",
        "elif age < 18:\n",
        "  price = 25\n",
        "else:\n",
        "  price = 40\n",
        "\n",
        "print(f\"Your admission cost is ${price}.\")\n"
      ],
      "metadata": {
        "colab": {
          "base_uri": "https://localhost:8080/"
        },
        "id": "9dshyQ3ikmmT",
        "outputId": "a501b0ed-e9ae-4ae2-b259-d9b0ac569459"
      },
      "execution_count": 27,
      "outputs": [
        {
          "output_type": "stream",
          "name": "stdout",
          "text": [
            "Your admission cost is $25.\n"
          ]
        }
      ]
    },
    {
      "cell_type": "markdown",
      "source": [
        "**Checking a Students Grade using if-elif-else**"
      ],
      "metadata": {
        "id": "Z2nn9IB0le_8"
      }
    },
    {
      "cell_type": "code",
      "source": [
        "marks = 90\n",
        "\n",
        "if marks >= 90:\n",
        "  print(\"Grade: A+\")\n",
        "elif marks >= 80:\n",
        "  print(\"Grade: A\")\n",
        "elif marks >= 70:\n",
        "  print(\"Grade: A-\")\n",
        "elif marks >= 60:\n",
        "  print(\"Grade: B\")\n",
        "else:\n",
        "  print(\"Grade: F\")\n",
        "\n"
      ],
      "metadata": {
        "colab": {
          "base_uri": "https://localhost:8080/"
        },
        "id": "9jUipk39lmb_",
        "outputId": "5b5f4224-8b46-417e-e28f-1279e36ad120"
      },
      "execution_count": 28,
      "outputs": [
        {
          "output_type": "stream",
          "name": "stdout",
          "text": [
            "Grade: A+\n"
          ]
        }
      ]
    },
    {
      "cell_type": "markdown",
      "source": [
        "**Checking Temperature Conditions**"
      ],
      "metadata": {
        "id": "sF_YCttrmnM_"
      }
    },
    {
      "cell_type": "code",
      "source": [
        "temperature = 30\n",
        "\n",
        "if temperature >= 35:\n",
        "  print(\"It's very hot!\")\n",
        "elif temperature >= 25:\n",
        "  print(\"It's warm.\")\n",
        "elif temperature >= 15:\n",
        "  print(\"It cold!\")\n",
        "elif temperature >= 5:\n",
        "  print(\"It's very cold\")\n",
        "elif temperature >= -10:\n",
        "  print(\"It's shivering cold!\")\n",
        "else:\n",
        "  print(\"The user is dead due to excessive coldness.\")"
      ],
      "metadata": {
        "colab": {
          "base_uri": "https://localhost:8080/"
        },
        "id": "L-BHHew_muSg",
        "outputId": "06fed240-6c22-40d7-c311-8b158b3ab326"
      },
      "execution_count": 29,
      "outputs": [
        {
          "output_type": "stream",
          "name": "stdout",
          "text": [
            "It's warm.\n"
          ]
        }
      ]
    },
    {
      "cell_type": "markdown",
      "source": [
        "Imagine you are deciding what to wear based on the weather.\n",
        "\n",
        "**Scenario: What Should You Wear?**\n",
        "If it’s hot, you wear a T-shirt.\n",
        "If it’s cold, you wear a jacket.\n",
        "If it’s raining, you take an umbrella.\n",
        "If none of these, you wear normal clothes.\n",
        "In Python, we write this decision-making using an if-elif-else chain:"
      ],
      "metadata": {
        "id": "pvQM45O_oLTk"
      }
    },
    {
      "cell_type": "code",
      "source": [
        "weather = \"cold\"\n",
        "\n",
        "if weather == \"hot\":\n",
        "  print(\"Wear a T-shirt.\")\n",
        "elif weather == \"cold\":\n",
        "  print(\"Wear a Jacket.\")\n",
        "elif weather == \"raining\":\n",
        "  print(\"Take an umbrella.\")\n",
        "else:\n",
        "  print(\"Wear normal clothes.\")"
      ],
      "metadata": {
        "colab": {
          "base_uri": "https://localhost:8080/"
        },
        "id": "ZC62dfNcoOLP",
        "outputId": "f0a45e6f-bb61-4c16-c19f-e72491ca73a7"
      },
      "execution_count": 30,
      "outputs": [
        {
          "output_type": "stream",
          "name": "stdout",
          "text": [
            "Wear a Jacket.\n"
          ]
        }
      ]
    },
    {
      "cell_type": "markdown",
      "source": [
        "Testing Multiple Conditions."
      ],
      "metadata": {
        "id": "WitV--ZRqraP"
      }
    },
    {
      "cell_type": "code",
      "source": [
        "requested_toppings = ['mushrooms', 'extra cheese']\n",
        "# starting with a list containing the requested toppings.\n",
        "\n",
        "if 'mushrooms' in requested_toppings:\n",
        "  print(\"Adding mushrooms.\")\n",
        "if 'pepperoni' in requested_toppings:\n",
        "  print(\"Adding pepperoni.\")\n",
        "if 'extra cheese' in requested_toppings:\n",
        "  print(\"Adding extra cheese.\")\n",
        "\n",
        "print(\"\\nFinished making your pizza.\")"
      ],
      "metadata": {
        "colab": {
          "base_uri": "https://localhost:8080/"
        },
        "id": "eFYX2kipqubt",
        "outputId": "2acb40e7-c9b5-49de-9db8-11ff5abc9e3d"
      },
      "execution_count": 31,
      "outputs": [
        {
          "output_type": "stream",
          "name": "stdout",
          "text": [
            "Adding mushrooms.\n",
            "Adding extra cheese.\n",
            "\n",
            "Finished making your pizza.\n"
          ]
        }
      ]
    },
    {
      "cell_type": "markdown",
      "source": [
        "This code would not work properly if we used an if-elif-else block,\n",
        "because the code would stop running after only one test passes. Here’s\n",
        "what that would look like:\n",
        "\n",
        "```\n",
        "requested_toppings = ['mushrooms', 'extra cheese']\n",
        "if 'mushrooms' in requested_toppings:\n",
        " print(\"Adding mushrooms.\")\n",
        "elif 'pepperoni' in requested_toppings:\n",
        " print(\"Adding pepperoni.\")\n",
        "elif 'extra cheese' in requested_toppings:\n",
        " print(\"Adding extra cheese.\")\n",
        "print(\"\\nFinished making your pizza!\")\n",
        "```\n",
        "\n",
        "\n",
        "The test for 'mushrooms' is the first test to pass, so mushrooms are added\n",
        "to the pizza. However, the values 'extra cheese' and 'pepperoni' are never\n",
        "checked, because Python doesn’t run any tests beyond the first test that\n",
        "passes in an if-elif-else chain. The customer’s first topping will be added,\n",
        "but all of their other toppings will be missed:\n",
        "\n",
        "\n",
        "```\n",
        "Adding mushrooms.\n",
        "Finished making your pizza!\n",
        "```\n",
        "In summary, if you want only one block of code to run, use an if-elif-else\n",
        "chain. If more than one block of code needs to run, use a series of independent if statements.\n"
      ],
      "metadata": {
        "id": "RNS6-S3crv-0"
      }
    },
    {
      "cell_type": "code",
      "source": [],
      "metadata": {
        "id": "FRGasTydr8AT"
      },
      "execution_count": 31,
      "outputs": []
    },
    {
      "cell_type": "markdown",
      "source": [
        "**5-3. Alien Colors #1:** : Imagine an alien was just shot down in a game. Create a\n",
        "variable called alien_color and assign it a value of 'green', 'yellow', or 'red'.\n",
        "\n",
        "• Write an if statement to test whether the alien’s color is green. If it is, print\n",
        "a message that the player just earned 5 points.\n",
        "\n",
        "• Write one version of this program that passes the if test and another that\n",
        "fails. (The version that fails will have no output.)\n",
        "\n",
        "\n"
      ],
      "metadata": {
        "id": "i9Ta1xKis5Yw"
      }
    },
    {
      "cell_type": "code",
      "source": [
        "alien_color = \"green\"\n",
        "\n",
        "if alien_color == \"green\":\n",
        "  print(\"You just earned 5 points.\")\n",
        "elif alien_color == \"yellow\":\n",
        "  print(\"You just got saved\")\n",
        "elif alien_color == \"red\":\n",
        "  print(\"BUSTED!!\")\n",
        "else:\n",
        "  print()"
      ],
      "metadata": {
        "colab": {
          "base_uri": "https://localhost:8080/"
        },
        "id": "6iRc3a_DtLGF",
        "outputId": "6e7e3a67-4720-4d5f-9a89-f3af8f600967"
      },
      "execution_count": 32,
      "outputs": [
        {
          "output_type": "stream",
          "name": "stdout",
          "text": [
            "You just earned 5 points.\n"
          ]
        }
      ]
    },
    {
      "cell_type": "code",
      "source": [
        "#5-4. Alien Colors #2:\n",
        "\n",
        "alien_color = \"yellow\"\n",
        "\n",
        "if alien_color == \"green\":\n",
        "  print(\"You just earned 5 points.\")\n",
        "elif alien_color == \"yellow\":\n",
        "  print(\"You just earned 10 points.\")\n",
        "elif alien_color == \"red\":\n",
        "  print(\"You just earned 15 points.\")\n",
        "else:\n",
        "  print()\n"
      ],
      "metadata": {
        "colab": {
          "base_uri": "https://localhost:8080/"
        },
        "id": "RsWykNWWwn3I",
        "outputId": "5eb1592e-ed4d-4148-8e12-0ec8fbfb5ab9"
      },
      "execution_count": 33,
      "outputs": [
        {
          "output_type": "stream",
          "name": "stdout",
          "text": [
            "You just earned 10 points.\n"
          ]
        }
      ]
    },
    {
      "cell_type": "markdown",
      "source": [
        "**5-6. Stages of Life:** Write an if-elif-else chain that determines a person’s stage\n",
        "of life. Set a value for the variable age, and then:\n",
        "\n",
        "• If the person is less than 2 years old, print a message that the person is\n",
        "a baby.\n",
        "\n",
        "• If the person is at least 2 years old but less than 4, print a message that the\n",
        "person is a toddler.\n",
        "\n",
        "• If the person is at least 4 years old but less than 13, print a message that\n",
        "the person is a kid.\n",
        "\n",
        "• If the person is at least 13 years old but less than 20, print a message that\n",
        "the person is a teenager.\n",
        "\n",
        "• If the person is at least 20 years old but less than 65, print a message that\n",
        "the person is an adult.\n",
        "\n",
        "• If the person is age 65 or older, print a message that the person is an elder."
      ],
      "metadata": {
        "id": "vZIKh-tTxo1s"
      }
    },
    {
      "cell_type": "code",
      "source": [
        "#5-6. Stages of life.\n",
        "age = 4\n",
        "\n",
        "if age < 2:\n",
        "  print(\"You are a baby\")\n",
        "elif age < 4:\n",
        "  print(\"You are a Toddler.\")\n",
        "elif age < 13:\n",
        "  print(\"You are a kid.\")\n",
        "elif age < 20:\n",
        "  print(\"You are a teenager.\")\n",
        "elif age < 65:\n",
        "  print(\"You are an adult.\")\n",
        "else:\n",
        "  print(\"You are an elder.\")"
      ],
      "metadata": {
        "colab": {
          "base_uri": "https://localhost:8080/"
        },
        "id": "6qAVIv5V_vDS",
        "outputId": "bbc85ba8-5c2e-45ea-b2c9-daec52d96fa7"
      },
      "execution_count": 34,
      "outputs": [
        {
          "output_type": "stream",
          "name": "stdout",
          "text": [
            "You are a kid.\n"
          ]
        }
      ]
    },
    {
      "cell_type": "markdown",
      "source": [
        "**5-7. Favorite Fruit:** Make a list of your favorite fruits, and then write a series of independent if statements that check for certain fruits in your list.\n",
        "\n",
        "• Make a list of your three favorite fruits and call it favorite_fruits.\n",
        "\n",
        "• Write five if statements. Each should check whether a certain kind of fruit\n",
        "is in your list. If the fruit is in your list, the if block should print a statement,\n",
        "such as You really like bananas!"
      ],
      "metadata": {
        "id": "Ql6EzQsgANzQ"
      }
    },
    {
      "cell_type": "code",
      "source": [
        "favorite_fruits = ['strawberry', 'apple', 'orange', 'beetroot']\n",
        "\n",
        "if 'strawberry' in favorite_fruits:\n",
        "  print(\"You really like strawberries!\")\n",
        "if 'apple' in favorite_fruits:\n",
        "  print(\"You really like apples!\")\n",
        "if 'orange' in favorite_fruits:\n",
        "  print(\"You really like oranges!\")\n",
        "if 'beetroot' in favorite_fruits:\n",
        "  print(\"You really like beetroots!\")"
      ],
      "metadata": {
        "colab": {
          "base_uri": "https://localhost:8080/"
        },
        "id": "QLLOoiAdBsqq",
        "outputId": "4471cc4e-5859-4768-9bb0-ca5ca384400e"
      },
      "execution_count": 43,
      "outputs": [
        {
          "output_type": "stream",
          "name": "stdout",
          "text": [
            "You really like strawberries!\n",
            "You really like apples!\n",
            "You really like oranges!\n",
            "You really like beetroots!\n"
          ]
        }
      ]
    },
    {
      "cell_type": "markdown",
      "source": [
        "**Using if Statements with lists.**\n"
      ],
      "metadata": {
        "id": "GARltVFYEANq"
      }
    },
    {
      "cell_type": "code",
      "source": [
        "# Checking for Special Items.\n",
        "\n",
        "ordered_toppings = ['mushrooms', 'green peppers', 'extra cheese']\n",
        "\n",
        "for ordered_topping in ordered_toppings:\n",
        "  if ordered_topping == 'green peppers':\n",
        "    print(\"Sorry, we ran out of green peppers right now.\")\n",
        "  else:\n",
        "    print(f\"Adding {ordered_topping}.\")\n",
        "\n",
        "print(\"\\nFinished making your pizza!\")\n",
        "print()\n",
        "\n",
        "'''\n",
        "Checking That a List Is Not Empty.\n",
        "'''\n",
        "\n",
        "requested_toppings = []\n",
        "\n",
        "if requested_toppings:\n",
        "  for requested_topping in requested_toppings:\n",
        "    print(f\"Adding {requested_topping}.\")\n",
        "  print(\"\\nFinished making your pizza!\")\n",
        "else:\n",
        "  print(\"Are you sure you want a plain pizza?\")"
      ],
      "metadata": {
        "colab": {
          "base_uri": "https://localhost:8080/"
        },
        "id": "1f3UAXDyEGLy",
        "outputId": "5ffc00fe-dcaf-4839-e7e7-74dc4cc2cac1"
      },
      "execution_count": 52,
      "outputs": [
        {
          "output_type": "stream",
          "name": "stdout",
          "text": [
            "Adding mushrooms.\n",
            "Sorry, we ran out of green peppers right now.\n",
            "Adding extra cheese.\n",
            "\n",
            "Finished making your pizza!\n",
            "\n",
            "Are you sure you want a plain pizza?\n"
          ]
        }
      ]
    }
  ]
}