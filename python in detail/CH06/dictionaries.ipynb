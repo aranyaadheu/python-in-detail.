{
 "cells": [
  {
   "cell_type": "markdown",
   "metadata": {},
   "source": [
    "# A simple Dictionary\n",
    "A *dictionary* in Python is a collection of *key-value* pairs. Each *key* is connected to a value, and you can use a key to access the value associated with that key. "
   ]
  },
  {
   "cell_type": "code",
   "execution_count": 2,
   "metadata": {},
   "outputs": [
    {
     "name": "stdout",
     "output_type": "stream",
     "text": [
      "green\n",
      "5\n",
      "05\n",
      "10\n",
      "You just earned 5 points!\n"
     ]
    }
   ],
   "source": [
    "# storing information\n",
    "\n",
    "alien_0 = {'color': 'green', 'points':5}\n",
    "\n",
    "print(alien_0['color'])\n",
    "print(alien_0['points'])\n",
    "\n",
    "user_points = {'rashed': '05', 'alex': '10'}\n",
    "\n",
    "print(user_points['rashed'])\n",
    "print(user_points['alex'])\n",
    "\n",
    "new_points = alien_0['points']\n",
    "print(f\"You just earned {new_points} points!\")\n"
   ]
  },
  {
   "cell_type": "code",
   "execution_count": 1,
   "metadata": {},
   "outputs": [
    {
     "name": "stdout",
     "output_type": "stream",
     "text": [
      "{'color': 'green', 'points': '5'}\n",
      "{'color': 'green', 'points': '5', 'x_position': 0, 'y_position': 25, 'z_position': 75, 'i_position': 100}\n"
     ]
    }
   ],
   "source": [
    "# Adding new Key-Value pairs. \n",
    "\n",
    "alien_0 = {'color': 'green', 'points': '5'}\n",
    "\n",
    "print(alien_0)\n",
    "\n",
    "alien_0['x_position'] = 0\n",
    "alien_0['y_position'] = 25\n",
    "alien_0['z_position'] = 75\n",
    "alien_0['i_position'] = 100\n",
    "print(alien_0)\n"
   ]
  },
  {
   "cell_type": "markdown",
   "metadata": {},
   "source": [
    "Starting with an empty Dictionary. "
   ]
  },
  {
   "cell_type": "code",
   "execution_count": 2,
   "metadata": {},
   "outputs": [
    {
     "name": "stdout",
     "output_type": "stream",
     "text": [
      "{'color': 'green', 'points': 5}\n"
     ]
    }
   ],
   "source": [
    "# convenient, or even necessary.\n",
    "# can add each new item to it. \n",
    "\n",
    "alien_0 = {}\n",
    "\n",
    "alien_0['color'] = 'green'\n",
    "alien_0['points'] = 5\n",
    "\n",
    "print(alien_0)"
   ]
  },
  {
   "cell_type": "code",
   "execution_count": 2,
   "metadata": {},
   "outputs": [
    {
     "name": "stdout",
     "output_type": "stream",
     "text": [
      "The alien is green.\n",
      "The alien is now yellow.\n",
      "The alien is now blue.\n",
      "The alien is now cyan\n"
     ]
    }
   ],
   "source": [
    "# Modifying values in a Dictionary. \n",
    "\n",
    "alien_0 = {'color': 'green'}\n",
    "print(f\"The alien is {alien_0['color']}.\")\n",
    "alien_0['color'] = 'yellow'\n",
    "print(f\"The alien is now {alien_0['color']}.\")\n",
    "alien_0['color'] = 'blue'\n",
    "print(f\"The alien is now {alien_0['color']}.\")\n",
    "alien_0['color'] = 'cyan'\n",
    "print(f\"The alien is now {alien_0['color']}\")"
   ]
  },
  {
   "cell_type": "code",
   "execution_count": null,
   "metadata": {},
   "outputs": [
    {
     "name": "stdout",
     "output_type": "stream",
     "text": [
      "Original position: 0\n",
      "New position: 3\n"
     ]
    }
   ],
   "source": [
    "# track the position of an alien that can move at different speeds. \n",
    "\n",
    "alien_0 = {'x_position': 0, 'y_position': 25, 'speed': 'fast'}\n",
    "print(f\"Original position: {alien_0['x_position']}\")\n",
    "\n",
    "# Move the alien to the right.\n",
    "# Determine how far to move the alien based on its current speed. \n",
    "\n",
    "if alien_0['speed'] == 'slow':\n",
    "    x_increment = 1\n",
    "elif alien_0['speed'] == 'medium':\n",
    "    x_increment = 2\n",
    "else:\n",
    "    # This must be a fast alien\n",
    "    x_increment = 3\n",
    "\n",
    "# The new position is the old position plus the increment. \n",
    "alien_0['x_position'] = alien_0['x_position'] + x_increment\n",
    "\n",
    "print(f\"New position: {alien_0['x_position']}\")\n"
   ]
  },
  {
   "cell_type": "markdown",
   "metadata": {},
   "source": [
    "Removing Key-Value Pairs. "
   ]
  },
  {
   "cell_type": "code",
   "execution_count": null,
   "metadata": {},
   "outputs": [
    {
     "name": "stdout",
     "output_type": "stream",
     "text": [
      "{'color': 'green', 'points': 5}\n",
      "{'color': 'green'}\n",
      "{}\n"
     ]
    }
   ],
   "source": [
    "# del statement to completely remove a key-value pair. \n",
    "\n",
    "alien_0 = {'color': 'green', 'points': 5}\n",
    "print(alien_0)\n",
    "\n",
    "del alien_0['points']\n",
    "print(alien_0)\n",
    "\n",
    "del alien_0['color']\n",
    "print(alien_0)"
   ]
  },
  {
   "cell_type": "markdown",
   "metadata": {},
   "source": [
    " A Dictionary of similar objects. "
   ]
  },
  {
   "cell_type": "code",
   "execution_count": 21,
   "metadata": {},
   "outputs": [
    {
     "name": "stdout",
     "output_type": "stream",
     "text": [
      "Chandler's favorite language is Rust\n",
      "Jen's favorite programming language is Rust\n",
      "Samin's favorite programming language is Rust\n"
     ]
    }
   ],
   "source": [
    "# simple poll \n",
    "\n",
    "favorite_languages = {\n",
    "    'jen': 'python',\n",
    "    'alex': 'C',\n",
    "    'samin': 'rust',\n",
    "    'chandler': 'C++',\n",
    "    'ross': 'ruby',\n",
    "    'joey': 'sass',\n",
    "    'zas': 'C#'\n",
    "}\n",
    "\n",
    "language = favorite_languages['chandler'].title()\n",
    "language = favorite_languages['jen'].title()\n",
    "language = favorite_languages['samin'].title()\n",
    "print(f\"Chandler's favorite language is {language}\")\n",
    "print(f\"Jen's favorite programming language is {language}\")\n",
    "print(f\"Samin's favorite programming language is {language}\")"
   ]
  },
  {
   "cell_type": "markdown",
   "metadata": {},
   "source": [
    "Using get() to access value. "
   ]
  },
  {
   "cell_type": "code",
   "execution_count": 3,
   "metadata": {},
   "outputs": [
    {
     "name": "stdout",
     "output_type": "stream",
     "text": [
      "No point value assigned.\n"
     ]
    }
   ],
   "source": [
    "# handling err's \n",
    "alien_0 = {'color': 'green', 'speed': 'medium'}\n",
    "\n",
    "point_value = alien_0.get('points', 'No point value assigned.')\n",
    "print(point_value)\n"
   ]
  },
  {
   "cell_type": "markdown",
   "metadata": {},
   "source": [
    "**6-1. Person:** Use a dictionary to store information about a person you know.\n",
    "Store their first name, last name, age, and the city in which they live. You\n",
    "should have keys such as first_name, last_name, age, and city. Print each piece\n",
    "of information stored in your dictionary."
   ]
  },
  {
   "cell_type": "code",
   "execution_count": 5,
   "metadata": {},
   "outputs": [
    {
     "name": "stdout",
     "output_type": "stream",
     "text": [
      "{'first name': 'Chandler', 'last name': 'Bing', 'age': '22y', 'city name': 'Berkley, CA'}\n"
     ]
    }
   ],
   "source": [
    "user_info = {\n",
    "    'first name': 'Chandler',\n",
    "    'last name': 'Bing',\n",
    "    'age': '22y',\n",
    "    'city name': 'Berkley, CA'\n",
    "}\n",
    "\n",
    "print(user_info)"
   ]
  },
  {
   "cell_type": "markdown",
   "metadata": {},
   "source": [
    "**6-2. Favorite Numbers:** Use a dictionary to store people’s favorite numbers.\n",
    "Think of five names, and use them as keys in your dictionary. Think of a favorite\n",
    "Dictionaries number for each person, and store each as a value in your dictionary. Print\n",
    "each person’s name and their favorite number. For even more fun, poll a few\n",
    "friends and get some actual data for your program."
   ]
  },
  {
   "cell_type": "code",
   "execution_count": null,
   "metadata": {},
   "outputs": [
    {
     "name": "stdout",
     "output_type": "stream",
     "text": [
      "Rasha's favorite number is 7\n",
      "Chandler's favorite number is 7\n",
      "Joey's favorite number is 7\n"
     ]
    }
   ],
   "source": [
    "# polling\n",
    "\n",
    "favorite_numbers = {\n",
    "    'rasha': '75',\n",
    "    'Roger': '29',\n",
    "    'chandler': '71',\n",
    "    'ross': '25',\n",
    "    'joye': '7'\n",
    "}\n",
    "\n",
    "nums = favorite_numbers['rasha'].title()\n",
    "nums = favorite_numbers['chandler'].title()\n",
    "nums = favorite_numbers['joye'].title()\n",
    "\n",
    "print(f\"Rasha's favorite number is {nums}\")\n",
    "print(f\"Chandler's favorite number is {nums}\")\n",
    "print(f\"Joey's favorite number is {nums}\")"
   ]
  },
  {
   "cell_type": "markdown",
   "metadata": {},
   "source": [
    "**6-3. Glossary:** A Python dictionary can be used to model an actual dictionary.\n",
    "However, to avoid confusion, let’s call it a glossary.\n",
    "\n",
    "• Think of five programming words you’ve learned about in the previous\n",
    "chapters. Use these words as the keys in your glossary, and store their\n",
    "meanings as values.\n",
    "\n",
    "• Print each word and its meaning as neatly formatted output. You might\n",
    "print the word followed by a colon and then its meaning, or print the word\n",
    "on one line and then print its meaning indented on a second line. Use the\n",
    "newline character (\\n) to insert a blank line between each word-meaning\n",
    "pair in your output."
   ]
  },
  {
   "cell_type": "code",
   "execution_count": 20,
   "metadata": {},
   "outputs": [
    {
     "name": "stdout",
     "output_type": "stream",
     "text": [
      "The list is intended as a value, and the assigned value is 01.\n",
      "\n",
      "The assigned value of Tuple is 02.\n",
      "\n",
      "Assigned value of loop is 04.\n",
      "\n",
      "Assigned value on Dictionary is 05.\n",
      "\n",
      "Value of If else is 03.\n"
     ]
    }
   ],
   "source": [
    "pg_words = {\n",
    "    'List': '01',\n",
    "    'Tuple': '02',\n",
    "    'if-else': '03',\n",
    "    'Loop': '04',\n",
    "    'Dictionary': '05'\n",
    "}\n",
    "\n",
    "print(f\"The list is intended as a value, and the assigned value is {pg_words['List']}.\")\n",
    "print(f\"\\nThe assigned value of Tuple is {pg_words['Tuple']}.\")\n",
    "print(f\"\\nAssigned value of loop is {pg_words['Loop']}.\")\n",
    "print(f\"\\nAssigned value on Dictionary is {pg_words['Dictionary']}.\")\n",
    "print(f\"\\nValue of If else is {pg_words['if-else']}.\")\n"
   ]
  },
  {
   "cell_type": "markdown",
   "metadata": {},
   "source": [
    "Looping through all key-value pairs. "
   ]
  },
  {
   "cell_type": "code",
   "execution_count": null,
   "metadata": {},
   "outputs": [
    {
     "name": "stdout",
     "output_type": "stream",
     "text": [
      "\n",
      "Key: username\n",
      "Value: aranyaadheu\n",
      "\n",
      "Key: first\n",
      "Value: aranyaa\n",
      "\n",
      "Key: last\n",
      "Value: dheu\n"
     ]
    }
   ],
   "source": [
    "# Dictionary can contain large amount of data. \n",
    "# designed to store information. \n",
    "\n",
    "user_0 = {\n",
    "    'username': 'aranyaadheu',\n",
    "    'first': 'aranyaa',\n",
    "    'last': 'dheu',\n",
    "}\n",
    "\n",
    "# items() returns a sequence of key-value pairs.\n",
    "\n",
    "for k, v in user_0.items(): #simplify this by using two variables. \n",
    "    print(f\"\\nKey: {k}\")\n",
    "    print(f\"Value: {v}\")\n",
    "\n"
   ]
  },
  {
   "cell_type": "code",
   "execution_count": null,
   "metadata": {},
   "outputs": [
    {
     "name": "stdout",
     "output_type": "stream",
     "text": [
      "Raquel's favorite language is Python.\n",
      "Chandler's favorite language is C++.\n",
      "Ross's favorite language is Ruby.\n",
      "Anabelle's favorite language is C#.\n",
      "Moen's favorite language is Sass.\n"
     ]
    }
   ],
   "source": [
    "favorite_languages = {\n",
    "    'raquel': 'python',\n",
    "    'chandler': 'C++',\n",
    "    'ross': 'Ruby',\n",
    "    'anabelle': 'C#',\n",
    "    'moen': 'SASS',\n",
    "}\n",
    "\n",
    "for name, language in favorite_languages.items():\n",
    "    print(f\"{name.title()}'s favorite language is {language.title()}.\")\n",
    "\n",
    "# Hence, Looping through dictionary is more convenient. "
   ]
  },
  {
   "cell_type": "code",
   "execution_count": null,
   "metadata": {},
   "outputs": [
    {
     "name": "stdout",
     "output_type": "stream",
     "text": [
      "Sakib Al Hasan's jersey number is 75\n",
      "Lionel Messi's jersey number is 10\n",
      "Christiano Ronaldo's jersey number is 07\n",
      "Mbappe's jersey number is 10\n"
     ]
    }
   ],
   "source": [
    "jersey_num = {\n",
    "    'sakib al hasan': '75',\n",
    "    'lionel messi': '10',\n",
    "    'christiano ronaldo': '07',\n",
    "    'mbappe': '10',\n",
    "}\n",
    "\n",
    "for name, num in jersey_num.items(): \n",
    "    print(f\"{name.title()}'s jersey number is {num}\")"
   ]
  },
  {
   "cell_type": "markdown",
   "metadata": {},
   "source": [
    "Looping through all the keys in a Dictionary. "
   ]
  },
  {
   "cell_type": "code",
   "execution_count": 4,
   "metadata": {},
   "outputs": [
    {
     "name": "stdout",
     "output_type": "stream",
     "text": [
      "Jen\n",
      "Sarah\n",
      "Edward\n",
      "Phil\n"
     ]
    }
   ],
   "source": [
    "# the keys() method. \n",
    "\n",
    "favorite_languages = {\n",
    "    'jen': 'python',\n",
    "    'sarah': 'c',\n",
    "    'edward': 'rust',\n",
    "    'phil': 'python',\n",
    " }\n",
    "\n",
    "for name in favorite_languages.keys():\n",
    "    print(name.title())\n"
   ]
  },
  {
   "cell_type": "code",
   "execution_count": 27,
   "metadata": {},
   "outputs": [
    {
     "name": "stdout",
     "output_type": "stream",
     "text": [
      "Hi Rashed.\n",
      "\tRashed, I see you love Ruby!\n",
      "Hi Monica.\n",
      "Hi Karen.\n",
      "Hi Janice.\n",
      "Hi Ross.\n",
      "\tRoss, I see you love Rust!\n",
      "Erin, Please take our poll!\n"
     ]
    }
   ],
   "source": [
    "favorite_languages = {\n",
    "    'rashed': 'ruby',\n",
    "    'monica': 'flask',\n",
    "    'karen': 'laravel',\n",
    "    'janice': 'javascript',\n",
    "    'ross': 'rust'\n",
    "}\n",
    "\n",
    "friends = ['rashed', 'ross']\n",
    "for name in favorite_languages.keys():\n",
    "    print(f\"Hi {name.title()}.\")\n",
    "\n",
    "    if name in friends:\n",
    "        language = favorite_languages[name].title()\n",
    "        print(f\"\\t{name.title()}, I see you love {language}!\")\n",
    "\n",
    "if 'erin' not in favorite_languages.keys():\n",
    "    print(\"Erin, Please take our poll!\")\n",
    "        "
   ]
  },
  {
   "cell_type": "code",
   "execution_count": 33,
   "metadata": {},
   "outputs": [
    {
     "name": "stdout",
     "output_type": "stream",
     "text": [
      "The following jersey numbers have been mentioned:\n",
      "\n",
      " 75\n",
      "\n",
      " 07\n",
      "\n",
      " 18\n",
      "\n",
      " 60\n",
      "\n",
      " 69\n",
      "\n",
      "Hi, Aranyaadheu\n",
      "\tAranyaadheu, I see your favorite jersey number is 75!\n",
      "Hi, Monica\n",
      "\tMonica, I see your favorite jersey number is 07!\n",
      "Hi, Rachel\n",
      "Hi, Ross\n",
      "Hi, Joey\n"
     ]
    }
   ],
   "source": [
    "# another one. \n",
    "\n",
    "user_info = {\n",
    "    'aranyaadheu':'75',\n",
    "    'monica': '07',\n",
    "    'rachel': '18',\n",
    "    'ross': '60',\n",
    "    'joey': '69',\n",
    "}\n",
    "\n",
    "print(\"The following jersey numbers have been mentioned:\")\n",
    "\n",
    "for user in user_info.values():\n",
    "    print(\"\\n\",user)\n",
    "    \n",
    "print()\n",
    "\n",
    "user = ['aranyaadheu', 'monica']\n",
    "for name in user_info.keys():\n",
    "    print(f\"Hi, {name.title()}\")\n",
    "\n",
    "    if name in user:\n",
    "        nums = user_info[name].title()\n",
    "        print(f\"\\t{name.title()}, I see your favorite jersey number is {nums}!\")\n",
    "\n"
   ]
  },
  {
   "cell_type": "markdown",
   "metadata": {},
   "source": [
    "Looping through a Dictionary's keys in a particular order. "
   ]
  },
  {
   "cell_type": "code",
   "execution_count": 28,
   "metadata": {},
   "outputs": [
    {
     "name": "stdout",
     "output_type": "stream",
     "text": [
      "Edward, thank you for taking the poll.\n",
      "Jen, thank you for taking the poll.\n",
      "Phil, thank you for taking the poll.\n",
      "Sarah, thank you for taking the poll.\n"
     ]
    }
   ],
   "source": [
    "favorite_languages = {\n",
    "    'jen': 'python',\n",
    "    'sarah': 'c',\n",
    "    'edward': 'rust',\n",
    "    'phil': 'python',\n",
    " }\n",
    "\n",
    "for name in sorted(favorite_languages.keys()):\n",
    "    print(f\"{name.title()}, thank you for taking the poll.\")"
   ]
  },
  {
   "cell_type": "markdown",
   "metadata": {},
   "source": [
    "Looping through all values in a Dictionary. \n"
   ]
  },
  {
   "cell_type": "code",
   "execution_count": 29,
   "metadata": {},
   "outputs": [
    {
     "name": "stdout",
     "output_type": "stream",
     "text": [
      "The following languages have been mentioned:\n",
      "Python\n",
      "C\n",
      "Rust\n",
      "Python\n"
     ]
    }
   ],
   "source": [
    "# value() method. \n",
    "\n",
    "favorite_languages = {\n",
    "    'jen': 'python',\n",
    "    'sarah': 'c',\n",
    "    'edward': 'rust',\n",
    "    'phil': 'python',\n",
    "}\n",
    "\n",
    "print(\"The following languages have been mentioned:\")\n",
    "for language in favorite_languages.values():\n",
    "    print(language.title())"
   ]
  },
  {
   "cell_type": "code",
   "execution_count": null,
   "metadata": {},
   "outputs": [
    {
     "name": "stdout",
     "output_type": "stream",
     "text": [
      "The following languages have been mentioned:\n",
      "Python\n",
      "Rust\n",
      "C\n"
     ]
    }
   ],
   "source": [
    "favorite_languages = {\n",
    "    'jen': 'python',\n",
    "    'sarah': 'c',\n",
    "    'edward': 'rust',\n",
    "    'phil': 'python',\n",
    "}\n",
    "\n",
    "print(\"The following languages have been mentioned:\")\n",
    "for language in set(favorite_languages.values()):\n",
    "    print(language.title())\n",
    "\n",
    "'''\n",
    "when you wrap set() around a collection of values\n",
    "that contains duplicate items, Python identifies\n",
    "the unique items in the collection and builds a\n",
    "set from those items. \n",
    "'''    "
   ]
  },
  {
   "cell_type": "markdown",
   "metadata": {},
   "source": [
    "**6-5. Rivers:** Make a dictionary containing three major rivers and the country\n",
    "each river runs through. One key-value pair might be 'nile': 'egypt'.\n",
    "\n",
    "• Use a loop to print a sentence about each river, such as The Nile runs\n",
    "through Egypt.\n",
    "\n",
    "• Use a loop to print the name of each river included in the dictionary.\n",
    "\n",
    "• Use a loop to print the name of each country included in the dictionary"
   ]
  },
  {
   "cell_type": "code",
   "execution_count": 27,
   "metadata": {},
   "outputs": [
    {
     "name": "stdout",
     "output_type": "stream",
     "text": [
      "The following countries have been mentioned:\n",
      "Egypt\n",
      "Jordan\n",
      "Bangladesh\n",
      "Arab\n",
      "Bangladesh\n",
      "India\n",
      "\n",
      "The following rivers have been mentioned:\n",
      "Nile\n",
      "Dead Sea\n",
      "Bay Of Bengal\n",
      "Arabian Sea\n",
      "Padma\n",
      "Ganges\n",
      "\n",
      "Nile runs through Egypt\n",
      "Dead Sea runs through Jordan\n",
      "Bay Of Bengal runs through Bangladesh\n",
      "Arabian Sea runs through Arab\n",
      "Padma runs through Bangladesh\n",
      "Ganges runs through India\n"
     ]
    }
   ],
   "source": [
    "rivers = {\n",
    "    'nile': 'egypt',\n",
    "    'dead sea': 'jordan',\n",
    "    'bay of bengal': 'bangladesh',\n",
    "    'arabian sea': 'arab',\n",
    "    'padma': 'bangladesh',\n",
    "    'ganges': 'india',\n",
    "}\n",
    "\n",
    "print(\"The following countries have been mentioned:\")\n",
    "for river in rivers.values():\n",
    "    print(river.title())\n",
    "\n",
    "print()\n",
    "\n",
    "print(\"The following rivers have been mentioned:\")\n",
    "for river in rivers.keys():\n",
    "    print(river.title())\n",
    "\n",
    "print()\n",
    "\n",
    "for river_name, runs in rivers.items():\n",
    "    print(f\"{river_name.title()} runs through {runs.title()}\")\n"
   ]
  },
  {
   "cell_type": "markdown",
   "metadata": {},
   "source": [
    "**6-6. Polling:** Use the code in favorite_languages.py (page 96).\n",
    "\n",
    "• Make a list of people who should take the favorite languages poll. Include\n",
    "some names that are already in the dictionary and some that are not.\n",
    "\n",
    "• Loop through the list of people who should take the poll. If they have\n",
    "already taken the poll, print a message thanking them for responding.\n",
    "If they have not yet taken the poll, print a message inviting them to take\n",
    "the poll."
   ]
  },
  {
   "cell_type": "code",
   "execution_count": 48,
   "metadata": {},
   "outputs": [
    {
     "name": "stdout",
     "output_type": "stream",
     "text": [
      "Names of people who took the poll:\n",
      "Chandler\n",
      "Monica\n",
      "Ross\n",
      "Rachel\n",
      "Phoebe\n",
      "\n",
      "The most populer programmming languages throughout the poll:\n",
      "Python\n",
      "Rust\n",
      "C++\n",
      "Ruby\n",
      "C#\n",
      "\n",
      "Julia, you are requested to take participate on the poll. \n",
      "Edward, you are requested to take participate on the poll. \n",
      "Karen, you are requested to take participate on the poll. \n",
      "Thank you Rachel, for taking the poll!\n",
      "Thank you Monica, for taking the poll!\n",
      "Thank you Chandler, for taking the poll!\n",
      "Thank you Ross, for taking the poll!\n"
     ]
    }
   ],
   "source": [
    "favorite_languages = {\n",
    "    'chandler': 'python',\n",
    "    'monica': 'rust',\n",
    "    'ross': 'c++',\n",
    "    'rachel': 'ruby',\n",
    "    'phoebe': 'c#',\n",
    "}\n",
    "\n",
    "print(\"Names of people who took the poll:\")\n",
    "for name in favorite_languages.keys():\n",
    "    print(name.title()) \n",
    "print()\n",
    "\n",
    "print(\"The most populer programmming languages throughout the poll:\")\n",
    "for name in favorite_languages.values():\n",
    "    print(name.title())\n",
    "print()\n",
    "\n",
    "# list of people who should take the poll\n",
    "people_to_poll = ['julia', 'edward', 'karen', 'rachel', 'monica', 'chandler', 'ross']\n",
    "\n",
    "# Loop through the list and checking if they've taken the poll\n",
    "for person in people_to_poll:\n",
    "    if person in favorite_languages:\n",
    "        print(f\"Thank you {person.title()}, for taking the poll!\")\n",
    "    else:\n",
    "        print(f\"{person.title()}, you are requested to take participate on the poll. \")"
   ]
  },
  {
   "cell_type": "markdown",
   "metadata": {},
   "source": [
    "## Nesting\n",
    "A list of Dictionaries. "
   ]
  },
  {
   "cell_type": "code",
   "execution_count": 49,
   "metadata": {},
   "outputs": [
    {
     "name": "stdout",
     "output_type": "stream",
     "text": [
      "{'color': 'green', 'points': 5}\n",
      "{'color': 'yellow', 'points': 10}\n",
      "{'color': 'red', 'points': 15}\n"
     ]
    }
   ],
   "source": [
    "# storing multiple dictionaries in a list = nesting. \n",
    "# A List of dictionaries.\n",
    "\n",
    "alien_0 = {\n",
    "    'color': 'green',\n",
    "    'points': 5\n",
    "}\n",
    "alien_1 = {\n",
    "    'color': 'yellow',\n",
    "    'points': 10\n",
    "}\n",
    "alien_3 = {\n",
    "    'color': 'red',\n",
    "    'points': 15\n",
    "}\n",
    "\n",
    "aliens = [alien_0, alien_1, alien_3]\n",
    "\n",
    "for alien in aliens:\n",
    "    print(alien)"
   ]
  },
  {
   "cell_type": "code",
   "execution_count": 54,
   "metadata": {},
   "outputs": [
    {
     "name": "stdout",
     "output_type": "stream",
     "text": [
      "{'color': 'green', 'points': 5, 'speed': 'slow'}\n",
      "{'color': 'green', 'points': 5, 'speed': 'slow'}\n",
      "{'color': 'green', 'points': 5, 'speed': 'slow'}\n",
      "{'color': 'green', 'points': 5, 'speed': 'slow'}\n",
      "{'color': 'green', 'points': 5, 'speed': 'slow'}\n",
      "...\n",
      "Total number of aliens: 30\n"
     ]
    }
   ],
   "source": [
    "# using range() to create a fleet of 30 aliens. \n",
    "# empty list for storing aliens. \n",
    "\n",
    "aliens = []\n",
    "\n",
    "# make 30 green aliens. \n",
    "for alien_number in range(30):\n",
    "    new_alien = {'color': 'green', 'points': 5, 'speed': 'slow'}\n",
    "    aliens.append(new_alien)\n",
    "\n",
    "# Show the first 5 aliens. \n",
    "\n",
    "for alien in aliens[:5]:\n",
    "    print(alien)\n",
    "print(\"...\")\n",
    "\n",
    "# Show how many aliens have been created. \n",
    "print(f\"Total number of aliens: {len(aliens)}\")"
   ]
  }
 ],
 "metadata": {
  "kernelspec": {
   "display_name": "Python 3",
   "language": "python",
   "name": "python3"
  },
  "language_info": {
   "codemirror_mode": {
    "name": "ipython",
    "version": 3
   },
   "file_extension": ".py",
   "mimetype": "text/x-python",
   "name": "python",
   "nbconvert_exporter": "python",
   "pygments_lexer": "ipython3",
   "version": "3.11.9"
  }
 },
 "nbformat": 4,
 "nbformat_minor": 2
}
