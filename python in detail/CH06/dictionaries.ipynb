{
 "cells": [
  {
   "cell_type": "markdown",
   "metadata": {},
   "source": [
    "# A simple Dictionary\n",
    "A *dictionary* in Python is a collection of *key-value* pairs. Each *key* is connected to a value, and you can use a key to access the value associated with that key. "
   ]
  },
  {
   "cell_type": "code",
   "execution_count": 2,
   "metadata": {},
   "outputs": [
    {
     "name": "stdout",
     "output_type": "stream",
     "text": [
      "green\n",
      "5\n",
      "05\n",
      "10\n",
      "You just earned 5 points!\n"
     ]
    }
   ],
   "source": [
    "# storing information\n",
    "\n",
    "alien_0 = {'color': 'green', 'points':5}\n",
    "\n",
    "print(alien_0['color'])\n",
    "print(alien_0['points'])\n",
    "\n",
    "user_points = {'rashed': '05', 'alex': '10'}\n",
    "\n",
    "print(user_points['rashed'])\n",
    "print(user_points['alex'])\n",
    "\n",
    "new_points = alien_0['points']\n",
    "print(f\"You just earned {new_points} points!\")\n"
   ]
  },
  {
   "cell_type": "code",
   "execution_count": 1,
   "metadata": {},
   "outputs": [
    {
     "name": "stdout",
     "output_type": "stream",
     "text": [
      "{'color': 'green', 'points': '5'}\n",
      "{'color': 'green', 'points': '5', 'x_position': 0, 'y_position': 25, 'z_position': 75, 'i_position': 100}\n"
     ]
    }
   ],
   "source": [
    "# Adding new Key-Value pairs. \n",
    "\n",
    "alien_0 = {'color': 'green', 'points': '5'}\n",
    "\n",
    "print(alien_0)\n",
    "\n",
    "alien_0['x_position'] = 0\n",
    "alien_0['y_position'] = 25\n",
    "alien_0['z_position'] = 75\n",
    "alien_0['i_position'] = 100\n",
    "print(alien_0)\n"
   ]
  },
  {
   "cell_type": "markdown",
   "metadata": {},
   "source": [
    "Starting with an empty Dictionary. "
   ]
  },
  {
   "cell_type": "code",
   "execution_count": 2,
   "metadata": {},
   "outputs": [
    {
     "name": "stdout",
     "output_type": "stream",
     "text": [
      "{'color': 'green', 'points': 5}\n"
     ]
    }
   ],
   "source": [
    "# convenient, or even necessary.\n",
    "# can add each new item to it. \n",
    "\n",
    "alien_0 = {}\n",
    "\n",
    "alien_0['color'] = 'green'\n",
    "alien_0['points'] = 5\n",
    "\n",
    "print(alien_0)"
   ]
  },
  {
   "cell_type": "code",
   "execution_count": null,
   "metadata": {},
   "outputs": [
    {
     "name": "stdout",
     "output_type": "stream",
     "text": [
      "The alien is green.\n",
      "The alien is now yellow.\n",
      "The alien is now blue.\n"
     ]
    }
   ],
   "source": [
    "# Modifying values in a Dictionary. \n",
    "\n",
    "alien_0 = {'color': 'green'}\n",
    "print(f\"The alien is {alien_0['color']}.\")\n",
    "alien_0['color'] = 'yellow'\n",
    "print(f\"The alien is now {alien_0['color']}.\")\n",
    "alien_0['color'] = 'blue'\n",
    "print(f\"The alien is now {alien_0['color']}.\")"
   ]
  },
  {
   "cell_type": "code",
   "execution_count": null,
   "metadata": {},
   "outputs": [
    {
     "name": "stdout",
     "output_type": "stream",
     "text": [
      "Original position: 0\n",
      "New position: 3\n"
     ]
    }
   ],
   "source": [
    "# track the position of an alien that can move at different speeds. \n",
    "\n",
    "alien_0 = {'x_position': 0, 'y_position': 25, 'speed': 'fast'}\n",
    "print(f\"Original position: {alien_0['x_position']}\")\n",
    "\n",
    "# Move the alien to the right.\n",
    "# Determine how far to move the alien based on its current speed. \n",
    "\n",
    "if alien_0['speed'] == 'slow':\n",
    "    x_increment = 1\n",
    "elif alien_0['speed'] == 'medium':\n",
    "    x_increment = 2\n",
    "else:\n",
    "    # This must be a fast alien\n",
    "    x_increment = 3\n",
    "\n",
    "# The new position is the old position plus the increment. \n",
    "alien_0['x_position'] = alien_0['x_position'] + x_increment\n",
    "\n",
    "print(f\"New position: {alien_0['x_position']}\")\n"
   ]
  },
  {
   "cell_type": "markdown",
   "metadata": {},
   "source": [
    "Removing Key-Value Pairs. "
   ]
  },
  {
   "cell_type": "code",
   "execution_count": null,
   "metadata": {},
   "outputs": [
    {
     "name": "stdout",
     "output_type": "stream",
     "text": [
      "{'color': 'green', 'points': 5}\n",
      "{'color': 'green'}\n",
      "{}\n"
     ]
    }
   ],
   "source": [
    "# del statement to completely remove a key-value pair. \n",
    "\n",
    "alien_0 = {'color': 'green', 'points': 5}\n",
    "print(alien_0)\n",
    "\n",
    "del alien_0['points']\n",
    "print(alien_0)\n",
    "\n",
    "del alien_0['color']\n",
    "print(alien_0)"
   ]
  },
  {
   "cell_type": "markdown",
   "metadata": {},
   "source": [
    " A Dictionary of similar objects. "
   ]
  },
  {
   "cell_type": "code",
   "execution_count": 21,
   "metadata": {},
   "outputs": [
    {
     "name": "stdout",
     "output_type": "stream",
     "text": [
      "Chandler's favorite language is Rust\n",
      "Jen's favorite programming language is Rust\n",
      "Samin's favorite programming language is Rust\n"
     ]
    }
   ],
   "source": [
    "# simple poll \n",
    "\n",
    "favorite_languages = {\n",
    "    'jen': 'python',\n",
    "    'alex': 'C',\n",
    "    'samin': 'rust',\n",
    "    'chandler': 'C++',\n",
    "    'ross': 'ruby',\n",
    "    'joey': 'sass',\n",
    "    'zas': 'C#'\n",
    "}\n",
    "\n",
    "language = favorite_languages['chandler'].title()\n",
    "language = favorite_languages['jen'].title()\n",
    "language = favorite_languages['samin'].title()\n",
    "print(f\"Chandler's favorite language is {language}\")\n",
    "print(f\"Jen's favorite programming language is {language}\")\n",
    "print(f\"Samin's favorite programming language is {language}\")"
   ]
  },
  {
   "cell_type": "markdown",
   "metadata": {},
   "source": [
    "Using get() to access value. "
   ]
  },
  {
   "cell_type": "code",
   "execution_count": 3,
   "metadata": {},
   "outputs": [
    {
     "name": "stdout",
     "output_type": "stream",
     "text": [
      "No point value assigned.\n"
     ]
    }
   ],
   "source": [
    "# handling err's \n",
    "alien_0 = {'color': 'green', 'speed': 'medium'}\n",
    "\n",
    "point_value = alien_0.get('points', 'No point value assigned.')\n",
    "print(point_value)\n"
   ]
  },
  {
   "cell_type": "markdown",
   "metadata": {},
   "source": [
    "**6-1. Person:** Use a dictionary to store information about a person you know.\n",
    "Store their first name, last name, age, and the city in which they live. You\n",
    "should have keys such as first_name, last_name, age, and city. Print each piece\n",
    "of information stored in your dictionary."
   ]
  },
  {
   "cell_type": "code",
   "execution_count": 5,
   "metadata": {},
   "outputs": [
    {
     "name": "stdout",
     "output_type": "stream",
     "text": [
      "{'first name': 'Chandler', 'last name': 'Bing', 'age': '22y', 'city name': 'Berkley, CA'}\n"
     ]
    }
   ],
   "source": [
    "user_info = {\n",
    "    'first name': 'Chandler',\n",
    "    'last name': 'Bing',\n",
    "    'age': '22y',\n",
    "    'city name': 'Berkley, CA'\n",
    "}\n",
    "\n",
    "print(user_info)"
   ]
  },
  {
   "cell_type": "markdown",
   "metadata": {},
   "source": [
    "**6-2. Favorite Numbers:** Use a dictionary to store people’s favorite numbers.\n",
    "Think of five names, and use them as keys in your dictionary. Think of a favorite\n",
    "Dictionaries number for each person, and store each as a value in your dictionary. Print\n",
    "each person’s name and their favorite number. For even more fun, poll a few\n",
    "friends and get some actual data for your program."
   ]
  },
  {
   "cell_type": "code",
   "execution_count": null,
   "metadata": {},
   "outputs": [
    {
     "name": "stdout",
     "output_type": "stream",
     "text": [
      "Rasha's favorite number is 7\n",
      "Chandler's favorite number is 7\n",
      "Joey's favorite number is 7\n"
     ]
    }
   ],
   "source": [
    "# polling\n",
    "\n",
    "favorite_numbers = {\n",
    "    'rasha': '75',\n",
    "    'Roger': '29',\n",
    "    'chandler': '71',\n",
    "    'ross': '25',\n",
    "    'joye': '7'\n",
    "}\n",
    "\n",
    "nums = favorite_numbers['rasha'].title()\n",
    "nums = favorite_numbers['chandler'].title()\n",
    "nums = favorite_numbers['joye'].title()\n",
    "\n",
    "print(f\"Rasha's favorite number is {nums}\")\n",
    "print(f\"Chandler's favorite number is {nums}\")\n",
    "print(f\"Joey's favorite number is {nums}\")"
   ]
  },
  {
   "cell_type": "markdown",
   "metadata": {},
   "source": [
    "**6-3. Glossary:** A Python dictionary can be used to model an actual dictionary.\n",
    "However, to avoid confusion, let’s call it a glossary.\n",
    "\n",
    "• Think of five programming words you’ve learned about in the previous\n",
    "chapters. Use these words as the keys in your glossary, and store their\n",
    "meanings as values.\n",
    "\n",
    "• Print each word and its meaning as neatly formatted output. You might\n",
    "print the word followed by a colon and then its meaning, or print the word\n",
    "on one line and then print its meaning indented on a second line. Use the\n",
    "newline character (\\n) to insert a blank line between each word-meaning\n",
    "pair in your output."
   ]
  },
  {
   "cell_type": "code",
   "execution_count": 20,
   "metadata": {},
   "outputs": [
    {
     "name": "stdout",
     "output_type": "stream",
     "text": [
      "The list is intended as a value, and the assigned value is 01.\n",
      "\n",
      "The assigned value of Tuple is 02.\n",
      "\n",
      "Assigned value of loop is 04.\n",
      "\n",
      "Assigned value on Dictionary is 05.\n",
      "\n",
      "Value of If else is 03.\n"
     ]
    }
   ],
   "source": [
    "pg_words = {\n",
    "    'List': '01',\n",
    "    'Tuple': '02',\n",
    "    'if-else': '03',\n",
    "    'Loop': '04',\n",
    "    'Dictionary': '05'\n",
    "}\n",
    "\n",
    "print(f\"The list is intended as a value, and the assigned value is {pg_words['List']}.\")\n",
    "print(f\"\\nThe assigned value of Tuple is {pg_words['Tuple']}.\")\n",
    "print(f\"\\nAssigned value of loop is {pg_words['Loop']}.\")\n",
    "print(f\"\\nAssigned value on Dictionary is {pg_words['Dictionary']}.\")\n",
    "print(f\"\\nValue of If else is {pg_words['if-else']}.\")\n"
   ]
  },
  {
   "cell_type": "markdown",
   "metadata": {},
   "source": [
    "Looping through all key-value pairs. "
   ]
  }
 ],
 "metadata": {
  "kernelspec": {
   "display_name": "Python 3",
   "language": "python",
   "name": "python3"
  },
  "language_info": {
   "codemirror_mode": {
    "name": "ipython",
    "version": 3
   },
   "file_extension": ".py",
   "mimetype": "text/x-python",
   "name": "python",
   "nbconvert_exporter": "python",
   "pygments_lexer": "ipython3",
   "version": "3.11.9"
  }
 },
 "nbformat": 4,
 "nbformat_minor": 2
}
