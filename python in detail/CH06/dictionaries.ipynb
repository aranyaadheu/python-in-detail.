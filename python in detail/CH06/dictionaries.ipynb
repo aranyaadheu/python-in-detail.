{
 "cells": [
  {
   "cell_type": "markdown",
   "metadata": {},
   "source": [
    "# A simple Dictionary\n",
    "A *dictionary* in Python is a collection of *key-value* pairs. Each *key* is connected to a value, and you can use a key to access the value associated with that key. "
   ]
  },
  {
   "cell_type": "code",
   "execution_count": 2,
   "metadata": {},
   "outputs": [
    {
     "name": "stdout",
     "output_type": "stream",
     "text": [
      "green\n",
      "5\n",
      "05\n",
      "10\n",
      "You just earned 5 points!\n"
     ]
    }
   ],
   "source": [
    "# storing information\n",
    "\n",
    "alien_0 = {'color': 'green', 'points':5}\n",
    "\n",
    "print(alien_0['color'])\n",
    "print(alien_0['points'])\n",
    "\n",
    "user_points = {'rashed': '05', 'alex': '10'}\n",
    "\n",
    "print(user_points['rashed'])\n",
    "print(user_points['alex'])\n",
    "\n",
    "new_points = alien_0['points']\n",
    "print(f\"You just earned {new_points} points!\")\n"
   ]
  },
  {
   "cell_type": "code",
   "execution_count": 1,
   "metadata": {},
   "outputs": [
    {
     "name": "stdout",
     "output_type": "stream",
     "text": [
      "{'color': 'green', 'points': '5'}\n",
      "{'color': 'green', 'points': '5', 'x_position': 0, 'y_position': 25, 'z_position': 75, 'i_position': 100}\n"
     ]
    }
   ],
   "source": [
    "# Adding new Key-Value pairs. \n",
    "\n",
    "alien_0 = {'color': 'green', 'points': '5'}\n",
    "\n",
    "print(alien_0)\n",
    "\n",
    "alien_0['x_position'] = 0\n",
    "alien_0['y_position'] = 25\n",
    "alien_0['z_position'] = 75\n",
    "alien_0['i_position'] = 100\n",
    "print(alien_0)\n"
   ]
  },
  {
   "cell_type": "markdown",
   "metadata": {},
   "source": [
    "Starting with an empty Dictionary. "
   ]
  },
  {
   "cell_type": "code",
   "execution_count": 2,
   "metadata": {},
   "outputs": [
    {
     "name": "stdout",
     "output_type": "stream",
     "text": [
      "{'color': 'green', 'points': 5}\n"
     ]
    }
   ],
   "source": [
    "# convenient, or even necessary.\n",
    "# can add each new item to it. \n",
    "\n",
    "alien_0 = {}\n",
    "\n",
    "alien_0['color'] = 'green'\n",
    "alien_0['points'] = 5\n",
    "\n",
    "print(alien_0)"
   ]
  },
  {
   "cell_type": "code",
   "execution_count": null,
   "metadata": {},
   "outputs": [
    {
     "name": "stdout",
     "output_type": "stream",
     "text": [
      "The alien is green.\n",
      "The alien is now yellow.\n",
      "The alien is now blue.\n"
     ]
    }
   ],
   "source": [
    "# Modifying values in a Dictionary. \n",
    "\n",
    "alien_0 = {'color': 'green'}\n",
    "print(f\"The alien is {alien_0['color']}.\")\n",
    "alien_0['color'] = 'yellow'\n",
    "print(f\"The alien is now {alien_0['color']}.\")\n",
    "alien_0['color'] = 'blue'\n",
    "print(f\"The alien is now {alien_0['color']}.\")"
   ]
  },
  {
   "cell_type": "code",
   "execution_count": null,
   "metadata": {},
   "outputs": [
    {
     "name": "stdout",
     "output_type": "stream",
     "text": [
      "Original position: 0\n",
      "New position: 3\n"
     ]
    }
   ],
   "source": [
    "# track the position of an alien that can move at different speeds. \n",
    "\n",
    "alien_0 = {'x_position': 0, 'y_position': 25, 'speed': 'fast'}\n",
    "print(f\"Original position: {alien_0['x_position']}\")\n",
    "\n",
    "# Move the alien to the right.\n",
    "# Determine how far to move the alien based on its current speed. \n",
    "\n",
    "if alien_0['speed'] == 'slow':\n",
    "    x_increment = 1\n",
    "elif alien_0['speed'] == 'medium':\n",
    "    x_increment = 2\n",
    "else:\n",
    "    # This must be a fast alien\n",
    "    x_increment = 3\n",
    "\n",
    "# The new position is the old position plus the increment. \n",
    "alien_0['x_position'] = alien_0['x_position'] + x_increment\n",
    "\n",
    "print(f\"New position: {alien_0['x_position']}\")\n"
   ]
  },
  {
   "cell_type": "markdown",
   "metadata": {},
   "source": [
    "Removing Key-Value Pairs. "
   ]
  },
  {
   "cell_type": "code",
   "execution_count": null,
   "metadata": {},
   "outputs": [
    {
     "name": "stdout",
     "output_type": "stream",
     "text": [
      "{'color': 'green', 'points': 5}\n",
      "{'color': 'green'}\n",
      "{}\n"
     ]
    }
   ],
   "source": [
    "# del statement to completely remove a key-value pair. \n",
    "\n",
    "alien_0 = {'color': 'green', 'points': 5}\n",
    "print(alien_0)\n",
    "\n",
    "del alien_0['points']\n",
    "print(alien_0)\n",
    "\n",
    "del alien_0['color']\n",
    "print(alien_0)"
   ]
  },
  {
   "cell_type": "markdown",
   "metadata": {},
   "source": [
    " A Dictionary of similar objects. "
   ]
  },
  {
   "cell_type": "code",
   "execution_count": 21,
   "metadata": {},
   "outputs": [
    {
     "name": "stdout",
     "output_type": "stream",
     "text": [
      "Chandler's favorite language is Rust\n",
      "Jen's favorite programming language is Rust\n",
      "Samin's favorite programming language is Rust\n"
     ]
    }
   ],
   "source": [
    "# simple poll \n",
    "\n",
    "favorite_languages = {\n",
    "    'jen': 'python',\n",
    "    'alex': 'C',\n",
    "    'samin': 'rust',\n",
    "    'chandler': 'C++',\n",
    "    'ross': 'ruby',\n",
    "    'joey': 'sass',\n",
    "    'zas': 'C#'\n",
    "}\n",
    "\n",
    "language = favorite_languages['chandler'].title()\n",
    "language = favorite_languages['jen'].title()\n",
    "language = favorite_languages['samin'].title()\n",
    "print(f\"Chandler's favorite language is {language}\")\n",
    "print(f\"Jen's favorite programming language is {language}\")\n",
    "print(f\"Samin's favorite programming language is {language}\")"
   ]
  },
  {
   "cell_type": "markdown",
   "metadata": {},
   "source": [
    "Using get() to access value. "
   ]
  },
  {
   "cell_type": "code",
   "execution_count": null,
   "metadata": {},
   "outputs": [],
   "source": []
  }
 ],
 "metadata": {
  "kernelspec": {
   "display_name": "Python 3",
   "language": "python",
   "name": "python3"
  },
  "language_info": {
   "codemirror_mode": {
    "name": "ipython",
    "version": 3
   },
   "file_extension": ".py",
   "mimetype": "text/x-python",
   "name": "python",
   "nbconvert_exporter": "python",
   "pygments_lexer": "ipython3",
   "version": "3.11.9"
  }
 },
 "nbformat": 4,
 "nbformat_minor": 2
}
