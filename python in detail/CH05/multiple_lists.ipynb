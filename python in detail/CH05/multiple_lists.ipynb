{
 "cells": [
  {
   "cell_type": "markdown",
   "metadata": {},
   "source": [
    "## Checking that a List is not empty. "
   ]
  },
  {
   "cell_type": "code",
   "execution_count": 2,
   "metadata": {},
   "outputs": [
    {
     "name": "stdout",
     "output_type": "stream",
     "text": [
      "Are you sure you want a plain pizza?\n"
     ]
    }
   ],
   "source": [
    "ordered_toppings = []\n",
    "\n",
    "if ordered_toppings:\n",
    "    for ordered_topping in ordered_toppings:\n",
    "        print(f\"Adding {ordered_topping}.\")\n",
    "    print(\"\\nFinished making your Pizza!\")\n",
    "else:\n",
    "    print(\"Are you sure you want a plain pizza?\")"
   ]
  },
  {
   "cell_type": "markdown",
   "metadata": {},
   "source": [
    "**5-8. Hello Admin:** Make a list of five or more usernames, including the name\n",
    "'admin'. Imagine you are writing code that will print a greeting to each user\n",
    "after they log in to a website. Loop through the list, and print a greeting to\n",
    "each user.\n",
    "\n",
    "• If the username is 'admin', print a special greeting, such as Hello admin,\n",
    "would you like to see a status report?\n",
    "\n",
    "• Otherwise, print a generic greeting, such as Hello Jaden, thank you for\n",
    "logging in again."
   ]
  },
  {
   "cell_type": "code",
   "execution_count": 31,
   "metadata": {},
   "outputs": [
    {
     "name": "stdout",
     "output_type": "stream",
     "text": [
      "Hello Sysadmin, thank you for logging in again\n",
      "Hello Abcdq71, thank you for logging in again\n",
      "Hello Aranyaadheu, thank you for logging in again\n",
      "Hello Anaconda, thank you for logging in again\n",
      "Hello admin, would you like to see some status report.\n"
     ]
    }
   ],
   "source": [
    "usernames = ['sysadmin', 'abcdq71', 'aranyaadheu', 'anaconda', 'admin']\n",
    "\n",
    "\n",
    "for user in usernames:\n",
    "    if user.lower() == 'admin':\n",
    "        print(\"Hello admin, would you like to see some status report.\")\n",
    "    else:\n",
    "        print(f\"Hello {user.title()}, thank you for logging in again\")\n"
   ]
  },
  {
   "cell_type": "markdown",
   "metadata": {},
   "source": [
    "**5-9. No Users:** Add an if test to hello_admin.py to make sure the list of users is\n",
    "not empty.\n",
    "\n",
    "• If the list is empty, print the message We need to find some users!\n",
    "\n",
    "• Remove all of the usernames from your list, and make sure the correct message is printed."
   ]
  },
  {
   "cell_type": "code",
   "execution_count": null,
   "metadata": {},
   "outputs": [
    {
     "name": "stdout",
     "output_type": "stream",
     "text": [
      "Hello Sysadmin, thank you for logging in again\n",
      "Hello Abcdq71, thank you for logging in again\n",
      "Hello Aranyaadheu, thank you for logging in again\n",
      "Hello Anaconda, thank you for logging in again\n",
      "Hello admin, would you like to see some status report.\n",
      "We need to find some users.\n"
     ]
    }
   ],
   "source": [
    "usernames = ['sysadmin', 'abcdq71', 'aranyaadheu', 'anaconda', 'admin']\n",
    "\n",
    "if usernames:\n",
    "    for user in usernames:\n",
    "        if user.lower() == 'admin':\n",
    "            print(\"Hello admin, would you like to see some status report.\")\n",
    "        else:\n",
    "            print(f\"Hello {user.title()}, thank you for logging in again\")\n",
    "else:\n",
    "    print(\"We need to find some users!\")\n",
    "\n",
    "usernames.clear()\n",
    "\n",
    "if not usernames:\n",
    "    print(\"We need to find some users.\")\n",
    "\n"
   ]
  },
  {
   "cell_type": "markdown",
   "metadata": {},
   "source": [
    "**5-10. Checking Usernames:** Do the following to create a program that simulates\n",
    "how websites ensure that everyone has a unique username.\n",
    "\n",
    "• Make a list of five or more usernames called current_users.\n",
    "\n",
    "• Make another list of five usernames called new_users. Make sure one or\n",
    "two of the new usernames are also in the current_users list.\n",
    "\n",
    "• Loop through the new_users list to see if each new username has already\n",
    "been used. If it has, print a message that the person will need to enter a\n",
    "new username. If a username has not been used, print a message saying\n",
    "that the username is available.\n",
    "\n",
    "• Make sure your comparison is case insensitive. If 'John' has been used,\n",
    "'JOHN' should not be accepted. (To do this, you’ll need to make a copy of\n",
    "current_users containing the lowercase versions of all existing users.)\n"
   ]
  },
  {
   "cell_type": "code",
   "execution_count": 44,
   "metadata": {},
   "outputs": [
    {
     "name": "stdout",
     "output_type": "stream",
     "text": [
      "The username 'batin' is available.\n",
      "Sorry, the username 'simonsmith' is already taken. Please enter a new username\n",
      "The username 'Richard' is available.\n",
      "The username 'Chandler' is available.\n",
      "Sorry, the username 'admin' is already taken. Please enter a new username\n"
     ]
    }
   ],
   "source": [
    "current_users = ['alex71', 'SimonSmith', 'sysAdmin', 'AranyaaDheu', 'Admin']\n",
    "\n",
    "new_users = ['batin', 'simonsmith', 'Richard', 'Chandler', 'admin']\n",
    "\n",
    "current_users_lower = [user.lower() for user in current_users]\n",
    " \n",
    "for new_user in new_users:\n",
    "    if new_user.lower() in current_users_lower:\n",
    "        print(f\"Sorry, the username '{new_user}' is already taken. Please enter a new username\")\n",
    "    else:\n",
    "        print(f\"The username '{new_user}' is available.\")\n"
   ]
  },
  {
   "cell_type": "markdown",
   "metadata": {},
   "source": [
    "**Understanding Lists and Loops deeply.** "
   ]
  },
  {
   "cell_type": "code",
   "execution_count": 50,
   "metadata": {},
   "outputs": [
    {
     "name": "stdout",
     "output_type": "stream",
     "text": [
      "Even Numbers: [2, 4, 6, 8, 10]\n",
      "Odd Numbers: [1, 3, 5, 7, 9]\n"
     ]
    }
   ],
   "source": [
    "# Filtering even and odd numbers. \n",
    "\n",
    "numbers = [1, 2, 3, 4, 5, 6, 7, 8, 9, 10]\n",
    "\n",
    "even_numbers = []\n",
    "odd_numbers = []\n",
    "\n",
    "for num in numbers:\n",
    "    if num % 2 == 0:\n",
    "        even_numbers.append(num)\n",
    "    else:\n",
    "        odd_numbers.append(num)\n",
    "        \n",
    "print(\"Even Numbers:\", even_numbers)\n",
    "print(\"Odd Numbers:\", odd_numbers)"
   ]
  },
  {
   "cell_type": "code",
   "execution_count": 52,
   "metadata": {},
   "outputs": [
    {
     "name": "stdout",
     "output_type": "stream",
     "text": [
      "The longest word is: MachineLearning\n"
     ]
    }
   ],
   "source": [
    "# Finding the longest word in a List. \n",
    "\n",
    "words = [\"Python\", \"Development\", \"AI\", \"MachineLearning\", \"Code\"]\n",
    "\n",
    "longest_word = \"\"\n",
    "max_length = 0\n",
    "\n",
    "for word in words:\n",
    "    if len(word) > max_length:\n",
    "        longest_word = word\n",
    "        max_length = len(word)\n",
    "\n",
    "print(\"The longest word is:\", longest_word)\n"
   ]
  },
  {
   "cell_type": "code",
   "execution_count": 54,
   "metadata": {},
   "outputs": [
    {
     "name": "stdout",
     "output_type": "stream",
     "text": [
      "Fruit counts {'apple': 3, 'beetroot': 1, 'banana': 1, 'orange': 1}\n"
     ]
    }
   ],
   "source": [
    "# Counting the Occurences of an Item\n",
    "\n",
    "fruits = ['apple', 'beetroot', 'banana', 'orange', 'apple', 'apple']\n",
    "\n",
    "fruit_counts = {}\n",
    "\n",
    "for fruit in fruits:\n",
    "    if fruit in fruit_counts:\n",
    "        fruit_counts[fruit] += 1\n",
    "    else:\n",
    "        fruit_counts[fruit] = 1\n",
    "print(\"Fruit counts\", fruit_counts)"
   ]
  },
  {
   "cell_type": "code",
   "execution_count": 56,
   "metadata": {},
   "outputs": [
    {
     "name": "stdout",
     "output_type": "stream",
     "text": [
      "Unique numbers: [1, 2, 3, 4, 5, 6, 7]\n"
     ]
    }
   ],
   "source": [
    "# Removing duplicates from a List. \n",
    "\n",
    "numbers = [1, 2, 3, 4, 3, 2, 5, 1, 6, 7, 5]\n",
    "\n",
    "unique_numbers = []\n",
    "for num in numbers:\n",
    "    if num not in unique_numbers: #checking for uniqueness using not in. \n",
    "        unique_numbers.append(num)\n",
    "\n",
    "print(\"Unique numbers:\", unique_numbers)"
   ]
  },
  {
   "cell_type": "code",
   "execution_count": 58,
   "metadata": {},
   "outputs": [
    {
     "name": "stdout",
     "output_type": "stream",
     "text": [
      "Common elements: [4, 5, 6]\n"
     ]
    }
   ],
   "source": [
    "# finding common elements in two Lists. \n",
    "\n",
    "list1 = [1, 2, 3, 4, 5, 6]\n",
    "list2 = [4, 5, 6, 7, 8, 9]\n",
    "\n",
    "common_elements = []\n",
    "\n",
    "for num in list1:\n",
    "    if num in list2:\n",
    "        common_elements.append(num)\n",
    "\n",
    "print(\"Common elements:\", common_elements)"
   ]
  },
  {
   "cell_type": "code",
   "execution_count": 59,
   "metadata": {},
   "outputs": [
    {
     "name": "stdout",
     "output_type": "stream",
     "text": [
      "Reversed List: [5, 4, 3, 2, 1]\n"
     ]
    }
   ],
   "source": [
    "# reversing a List without using reverse()\n",
    "\n",
    "numbers = [1, 2, 3, 4, 5]\n",
    "reversed_numbers = []\n",
    "\n",
    "for i in range(len(numbers) -1, -1, -1):\n",
    "    reversed_numbers.append(numbers[i])\n",
    "\n",
    "print(\"Reversed List:\", reversed_numbers)"
   ]
  },
  {
   "cell_type": "code",
   "execution_count": 60,
   "metadata": {},
   "outputs": [
    {
     "name": "stdout",
     "output_type": "stream",
     "text": [
      "Multiplied numbers: [2, 4, 6, 8, 10]\n"
     ]
    }
   ],
   "source": [
    "# Multiplying elements in a list by a factor\n",
    "\n",
    "numbers = [1, 2, 3, 4, 5]\n",
    "multiplied_numbers = []\n",
    "\n",
    "for num in numbers:\n",
    "    multiplied_numbers.append(num * 2)\n",
    "\n",
    "print(\"Multiplied numbers:\", multiplied_numbers)\n"
   ]
  },
  {
   "cell_type": "code",
   "execution_count": 62,
   "metadata": {},
   "outputs": [
    {
     "name": "stdout",
     "output_type": "stream",
     "text": [
      "The list is sorted\n"
     ]
    }
   ],
   "source": [
    "# checking if a list is sorted\n",
    "\n",
    "numbers = [1, 2, 3, 4, 5]\n",
    "\n",
    "is_sorted = True\n",
    "for i in range(len(numbers) -1):\n",
    "    if numbers[i] > numbers[i + 1]:\n",
    "        is_sorted = False\n",
    "        break\n",
    "\n",
    "if is_sorted:\n",
    "    print(\"The list is sorted\")\n",
    "else:\n",
    "    print(\"The list is not sorted.\")\n"
   ]
  },
  {
   "cell_type": "code",
   "execution_count": 64,
   "metadata": {},
   "outputs": [
    {
     "name": "stdout",
     "output_type": "stream",
     "text": [
      "Squares: [1, 4, 9, 16, 25, 36, 49, 64, 81, 100]\n"
     ]
    }
   ],
   "source": [
    "# creating a list of squares. \n",
    "\n",
    "squares = []\n",
    "\n",
    "for num in range(1, 11):\n",
    "    squares.append(num ** 2)\n",
    "\n",
    "print(\"Squares:\", squares)"
   ]
  }
 ],
 "metadata": {
  "kernelspec": {
   "display_name": "Python 3",
   "language": "python",
   "name": "python3"
  },
  "language_info": {
   "codemirror_mode": {
    "name": "ipython",
    "version": 3
   },
   "file_extension": ".py",
   "mimetype": "text/x-python",
   "name": "python",
   "nbconvert_exporter": "python",
   "pygments_lexer": "ipython3",
   "version": "3.11.9"
  }
 },
 "nbformat": 4,
 "nbformat_minor": 2
}
