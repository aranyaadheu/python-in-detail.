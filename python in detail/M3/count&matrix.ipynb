{
 "cells": [
  {
   "cell_type": "code",
   "execution_count": 1,
   "metadata": {},
   "outputs": [
    {
     "name": "stdout",
     "output_type": "stream",
     "text": [
      "0 10 20 30 40 50 60 70 80 90 100\n"
     ]
    }
   ],
   "source": [
    "def count_by_10(end):\n",
    "    count = \"\"\n",
    "    for number in range(0,end+1,10):\n",
    "        count += str(number) + \" \"\n",
    "    return count.strip()\n",
    "\n",
    "print(count_by_10(100)) "
   ]
  },
  {
   "cell_type": "code",
   "execution_count": null,
   "metadata": {},
   "outputs": [
    {
     "name": "stdout",
     "output_type": "stream",
     "text": [
      "1 2 3 4 \n",
      "2 4 6 8 \n",
      "3 6 9 12 \n",
      "4 8 12 16 \n",
      "\n"
     ]
    }
   ],
   "source": [
    "def matrix(initial_number, end_of_first_row):\n",
    "\n",
    "    n1 = initial_number\n",
    "    n2 = end_of_first_row+1\n",
    "\n",
    "    for column in range(n1, n2):\n",
    "        for row in range(n1, n2):\n",
    "            print(column*row, end=\" \")\n",
    "        print()\n",
    "\n",
    "matrix(1, 4)\n",
    "\n"
   ]
  },
  {
   "cell_type": "markdown",
   "metadata": {},
   "source": [
    " Predict the final value of a nested for loop with range() functions. "
   ]
  },
  {
   "cell_type": "code",
   "execution_count": 13,
   "metadata": {},
   "outputs": [
    {
     "name": "stdout",
     "output_type": "stream",
     "text": [
      "0\n",
      "0\n",
      "1\n",
      "0\n",
      "1\n",
      "2\n",
      "0\n",
      "1\n",
      "2\n",
      "3\n",
      "0\n",
      "1\n",
      "2\n",
      "3\n",
      "4\n",
      "0\n",
      "1\n",
      "2\n",
      "3\n",
      "4\n",
      "5\n",
      "0\n",
      "1\n",
      "2\n",
      "3\n",
      "4\n",
      "5\n",
      "6\n",
      "0\n",
      "1\n",
      "2\n",
      "3\n",
      "4\n",
      "5\n",
      "6\n",
      "7\n",
      "0\n",
      "1\n",
      "2\n",
      "3\n",
      "4\n",
      "5\n",
      "6\n",
      "7\n",
      "8\n"
     ]
    }
   ],
   "source": [
    "for outer_loop in range(10):\n",
    "    for inner_loop in range(outer_loop):\n",
    "        print(inner_loop)"
   ]
  },
  {
   "cell_type": "markdown",
   "metadata": {},
   "source": [
    "Use a while loop to print a sequence of numbers ."
   ]
  },
  {
   "cell_type": "code",
   "execution_count": 14,
   "metadata": {},
   "outputs": [
    {
     "name": "stdout",
     "output_type": "stream",
     "text": [
      "18 15 12 9 6 3 0 "
     ]
    }
   ],
   "source": [
    "starting_number = 18\n",
    "while starting_number >= 0:\n",
    "    print(starting_number, end=\" \")\n",
    "\n",
    "    starting_number -= 3"
   ]
  },
  {
   "cell_type": "markdown",
   "metadata": {},
   "source": [
    "Use a while loop to count the number of digits in a numerical value   "
   ]
  },
  {
   "cell_type": "code",
   "execution_count": 18,
   "metadata": {},
   "outputs": [
    {
     "name": "stdout",
     "output_type": "stream",
     "text": [
      "The CEO has a 7-figure salary.\n"
     ]
    }
   ],
   "source": [
    "def x_figure(salary):\n",
    "    tally = 0\n",
    "\n",
    "    if salary == 0:\n",
    "        tally += 1\n",
    "\n",
    "    while salary >= 1:\n",
    "        salary = salary/10\n",
    "        tally += 1\n",
    "    return tally\n",
    "\n",
    "print(\"The CEO has a \" + str(x_figure(2300000)) + \"-figure salary.\")"
   ]
  },
  {
   "cell_type": "markdown",
   "metadata": {},
   "source": [
    "Using while loops with if-else statements"
   ]
  },
  {
   "cell_type": "code",
   "execution_count": null,
   "metadata": {},
   "outputs": [
    {
     "name": "stdout",
     "output_type": "stream",
     "text": [
      "Going up: 1 | 2 | 3 | 4\n",
      "Going down: 6 | 5 | 4 | 3 | 2\n"
     ]
    }
   ],
   "source": [
    "def elevator_floor(enter, exit):\n",
    "    floor = enter\n",
    "    elevator_direction = \"Going down: \" if enter > exit else \"Going up: \"\n",
    "    \n",
    "    if enter > exit:\n",
    "        while floor >= exit:\n",
    "            elevator_direction += str(floor)\n",
    "            if floor > exit:\n",
    "                elevator_direction += \" | \"\n",
    "            floor -= 1\n",
    "    else:\n",
    "        while floor <= exit:\n",
    "            elevator_direction += str(floor)\n",
    "            if floor < exit:\n",
    "                elevator_direction += \" | \"\n",
    "            floor += 1\n",
    "    \n",
    "    return elevator_direction\n",
    "\n",
    "print(elevator_floor(1, 4))\n",
    "print(elevator_floor(6, 2))\n"
   ]
  }
 ],
 "metadata": {
  "kernelspec": {
   "display_name": "Python 3",
   "language": "python",
   "name": "python3"
  },
  "language_info": {
   "codemirror_mode": {
    "name": "ipython",
    "version": 3
   },
   "file_extension": ".py",
   "mimetype": "text/x-python",
   "name": "python",
   "nbconvert_exporter": "python",
   "pygments_lexer": "ipython3",
   "version": "3.13.1"
  }
 },
 "nbformat": 4,
 "nbformat_minor": 2
}
