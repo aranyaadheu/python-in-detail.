{
 "cells": [
  {
   "cell_type": "markdown",
   "metadata": {},
   "source": [
    "# Recursion\n",
    "\n",
    "The repeated application of the same procedure to a smaller problem.\n",
    "\n",
    "Recursion lets us tackle complex problems by reducing the problem to a simpler one. \n",
    "\n",
    "In programming, recursion is a way of doing a repetitive task by having a function call itself. "
   ]
  }
 ],
 "metadata": {
  "language_info": {
   "name": "python"
  }
 },
 "nbformat": 4,
 "nbformat_minor": 2
}
