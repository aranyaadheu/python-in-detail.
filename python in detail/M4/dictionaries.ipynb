{
 "cells": [
  {
   "cell_type": "markdown",
   "metadata": {},
   "source": [
    "# Dictionaries\n"
   ]
  },
  {
   "cell_type": "code",
   "execution_count": 1,
   "metadata": {},
   "outputs": [
    {
     "data": {
      "text/plain": [
       "dict"
      ]
     },
     "execution_count": 1,
     "metadata": {},
     "output_type": "execute_result"
    }
   ],
   "source": [
    "x = {}\n",
    "type(x)"
   ]
  },
  {
   "cell_type": "code",
   "execution_count": 2,
   "metadata": {},
   "outputs": [
    {
     "name": "stdout",
     "output_type": "stream",
     "text": [
      "{'jpg': 10, 'txt': 14, 'csv': 2, 'py': 23}\n"
     ]
    }
   ],
   "source": [
    "file_counts = {\n",
    "    \"jpg\": 10, \n",
    "    \"txt\": 14,\n",
    "    \"csv\": 2,\n",
    "    \"py\":23\n",
    "}\n",
    "\n",
    "print(file_counts)"
   ]
  },
  {
   "cell_type": "code",
   "execution_count": 3,
   "metadata": {},
   "outputs": [
    {
     "data": {
      "text/plain": [
       "14"
      ]
     },
     "execution_count": 3,
     "metadata": {},
     "output_type": "execute_result"
    }
   ],
   "source": [
    "file_counts[\"txt\"]"
   ]
  },
  {
   "cell_type": "code",
   "execution_count": 4,
   "metadata": {},
   "outputs": [
    {
     "data": {
      "text/plain": [
       "False"
      ]
     },
     "execution_count": 4,
     "metadata": {},
     "output_type": "execute_result"
    }
   ],
   "source": [
    "\"jpg\" in file_counts\n",
    "\"html\" in file_counts"
   ]
  },
  {
   "cell_type": "code",
   "execution_count": 5,
   "metadata": {},
   "outputs": [
    {
     "name": "stdout",
     "output_type": "stream",
     "text": [
      "{'jpg': 10, 'txt': 14, 'csv': 2, 'py': 23, 'cfg': 8}\n"
     ]
    }
   ],
   "source": [
    "file_counts[\"cfg\"] = 8\n",
    "print(file_counts)"
   ]
  },
  {
   "cell_type": "code",
   "execution_count": 6,
   "metadata": {},
   "outputs": [
    {
     "name": "stdout",
     "output_type": "stream",
     "text": [
      "{'jpg': 10, 'txt': 14, 'csv': 17, 'py': 23, 'cfg': 8}\n"
     ]
    }
   ],
   "source": [
    "file_counts[\"csv\"] = 17\n",
    "print(file_counts)"
   ]
  },
  {
   "cell_type": "code",
   "execution_count": 7,
   "metadata": {},
   "outputs": [
    {
     "name": "stdout",
     "output_type": "stream",
     "text": [
      "{'jpg': 10, 'txt': 14, 'csv': 17, 'py': 23}\n"
     ]
    }
   ],
   "source": [
    "del file_counts[\"cfg\"]\n",
    "print(file_counts)"
   ]
  },
  {
   "cell_type": "markdown",
   "metadata": {},
   "source": [
    "### Iterating over the contents of a dictionary"
   ]
  },
  {
   "cell_type": "code",
   "execution_count": 8,
   "metadata": {},
   "outputs": [
    {
     "name": "stdout",
     "output_type": "stream",
     "text": [
      "jpg\n",
      "txt\n",
      "csv\n",
      "py\n"
     ]
    }
   ],
   "source": [
    "file_counts = {\n",
    "    \"jpg\": 10, \n",
    "    \"txt\": 14,\n",
    "    \"csv\": 2,\n",
    "    \"py\":23\n",
    "}\n",
    "\n",
    "for extension in file_counts:\n",
    "    print(extension)"
   ]
  },
  {
   "cell_type": "code",
   "execution_count": 10,
   "metadata": {},
   "outputs": [
    {
     "name": "stdout",
     "output_type": "stream",
     "text": [
      "There are 10 files with the .jpg extension\n",
      "There are 14 files with the .txt extension\n",
      "There are 2 files with the .csv extension\n",
      "There are 23 files with the .py extension\n"
     ]
    }
   ],
   "source": [
    "file_counts = {\n",
    "    \"jpg\": 10, \n",
    "    \"txt\": 14,\n",
    "    \"csv\": 2,\n",
    "    \"py\":23\n",
    "}\n",
    "\n",
    "for ext, amount in file_counts.items():\n",
    "    print(\"There are {} files with the .{} extension\". format(amount, ext))"
   ]
  },
  {
   "cell_type": "code",
   "execution_count": 12,
   "metadata": {},
   "outputs": [
    {
     "data": {
      "text/plain": [
       "dict_values([10, 14, 2, 23])"
      ]
     },
     "execution_count": 12,
     "metadata": {},
     "output_type": "execute_result"
    }
   ],
   "source": [
    "file_counts = {\"jpg\":10, \"txt\":14, \"csv\":2, \"py\":23}\n",
    "file_counts.keys()\n",
    "file_counts.values()"
   ]
  },
  {
   "cell_type": "code",
   "execution_count": 13,
   "metadata": {},
   "outputs": [
    {
     "name": "stdout",
     "output_type": "stream",
     "text": [
      "10\n",
      "14\n",
      "2\n",
      "23\n"
     ]
    }
   ],
   "source": [
    "file_counts = {\"jpg\":10, \"txt\":14, \"csv\":2, \"py\":23}\n",
    "for value in file_counts.values():\n",
    "    print(value)"
   ]
  },
  {
   "cell_type": "code",
   "execution_count": 14,
   "metadata": {},
   "outputs": [
    {
     "data": {
      "text/plain": [
       "{'a': 2,\n",
       " ' ': 7,\n",
       " 'l': 3,\n",
       " 'o': 3,\n",
       " 'n': 2,\n",
       " 'g': 2,\n",
       " 's': 2,\n",
       " 't': 5,\n",
       " 'r': 2,\n",
       " 'i': 2,\n",
       " 'w': 1,\n",
       " 'h': 1,\n",
       " 'f': 1,\n",
       " 'e': 2}"
      ]
     },
     "execution_count": 14,
     "metadata": {},
     "output_type": "execute_result"
    }
   ],
   "source": [
    "def count_letters(text):\n",
    "    result = {}\n",
    "    for letter in text:\n",
    "        if letter not in result:\n",
    "            result[letter] = 0\n",
    "        result[letter] += 1\n",
    "    return result\n",
    "count_letters(\"aaaa\")\n",
    "count_letters(\"tenant\")\n",
    "count_letters(\"a long string with a lot of letters\")"
   ]
  },
  {
   "cell_type": "markdown",
   "metadata": {},
   "source": [
    "### Dictionary Methods\n"
   ]
  },
  {
   "cell_type": "code",
   "execution_count": 17,
   "metadata": {},
   "outputs": [
    {
     "name": "stdout",
     "output_type": "stream",
     "text": [
      "{'keyA': ['value1', 'value2'], 'keyB': ['value3', 'value4']}\n"
     ]
    },
    {
     "data": {
      "text/plain": [
       "2"
      ]
     },
     "execution_count": 17,
     "metadata": {},
     "output_type": "execute_result"
    }
   ],
   "source": [
    "my_dictionary = {\"keyA\":[\"value1\", \"value2\"], \"keyB\":[\"value3\", \"value4\"]}\n",
    "print(my_dictionary)\n",
    "len(my_dictionary)"
   ]
  },
  {
   "cell_type": "code",
   "execution_count": null,
   "metadata": {},
   "outputs": [
    {
     "name": "stdout",
     "output_type": "stream",
     "text": [
      "['Yorkie', 'Collie', 'Bulldog']\n"
     ]
    }
   ],
   "source": [
    "pet_dictionary = {\"dogs\": [\"Yorkie\", \"Collie\", \"Bulldog\"], \"cats\": [\"Persian\", \"Scottish Fold\", \"Siberian\"], \"rabbits\": [\"Angora\", \"Holland Lop\", \"Harlequin\"]}  \n",
    "\n",
    "\n",
    "print(pet_dictionary.get(\"dogs\", 0))\n"
   ]
  }
 ],
 "metadata": {
  "kernelspec": {
   "display_name": "Python 3",
   "language": "python",
   "name": "python3"
  },
  "language_info": {
   "codemirror_mode": {
    "name": "ipython",
    "version": 3
   },
   "file_extension": ".py",
   "mimetype": "text/x-python",
   "name": "python",
   "nbconvert_exporter": "python",
   "pygments_lexer": "ipython3",
   "version": "3.13.1"
  }
 },
 "nbformat": 4,
 "nbformat_minor": 2
}
