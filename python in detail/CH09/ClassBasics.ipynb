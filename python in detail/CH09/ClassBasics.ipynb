{
 "cells": [
  {
   "cell_type": "markdown",
   "metadata": {},
   "source": [
    "**Defining a Class**\n"
   ]
  },
  {
   "cell_type": "code",
   "execution_count": null,
   "metadata": {},
   "outputs": [],
   "source": [
    "class Person:\n",
    "    pass # An empty class"
   ]
  },
  {
   "cell_type": "code",
   "execution_count": null,
   "metadata": {},
   "outputs": [],
   "source": [
    "# Creating a Object\n",
    "# An object is an instance of a class. \n",
    "\n",
    "person1 = Person()\n",
    "print(person1)\n"
   ]
  },
  {
   "cell_type": "markdown",
   "metadata": {},
   "source": [
    "**The ```__init__``` method (Constructor)**"
   ]
  },
  {
   "cell_type": "code",
   "execution_count": 2,
   "metadata": {},
   "outputs": [
    {
     "name": "stdout",
     "output_type": "stream",
     "text": [
      "Alice\n",
      "25\n"
     ]
    }
   ],
   "source": [
    "class Person:\n",
    "    def __init__(self, name, age):\n",
    "        self.name = name\n",
    "        self.age = age\n",
    "\n",
    "# Creating an object\n",
    "person1 = Person(\"Alice\", 25)\n",
    "print(person1.name)\n",
    "print(person1.age)"
   ]
  },
  {
   "cell_type": "markdown",
   "metadata": {},
   "source": [
    "**Adding Methods**"
   ]
  },
  {
   "cell_type": "code",
   "execution_count": 3,
   "metadata": {},
   "outputs": [
    {
     "name": "stdout",
     "output_type": "stream",
     "text": [
      "Hello, my name is Bob and I am 30 years old!\n"
     ]
    }
   ],
   "source": [
    "class Person:\n",
    "    def __init__(self, name, age):\n",
    "        self.name = name\n",
    "        self.age = age\n",
    "\n",
    "    def greet(self):\n",
    "        return f\"Hello, my name is {self.name} and I am {self.age} years old!\"\n",
    "    \n",
    "person1 = Person(\"Bob\", 30)\n",
    "print(person1.greet())\n"
   ]
  },
  {
   "cell_type": "markdown",
   "metadata": {},
   "source": [
    "**Class vc Instance Variables**\n",
    "- Instance Variables are unique to each object\n",
    "- Class variables are shared among all objects\n"
   ]
  },
  {
   "cell_type": "code",
   "execution_count": 5,
   "metadata": {},
   "outputs": [
    {
     "name": "stdout",
     "output_type": "stream",
     "text": [
      "Homo Sapiens\n",
      "Homo Sapiens\n",
      "Humans\n",
      "Humans\n"
     ]
    }
   ],
   "source": [
    "class Person:\n",
    "    species = \"Homo Sapiens\" # class variable\n",
    "\n",
    "    def __init__(self, name):\n",
    "        self.name = name # Instance variable\n",
    "\n",
    "person1 = Person(\"Alice\")\n",
    "person2 = Person(\"Bob\")\n",
    "\n",
    "print(person1.species)\n",
    "print(person2.species)\n",
    "\n",
    "# Changing the class variable\n",
    "Person.species = \"Humans\"\n",
    "\n",
    "print(person1.species)\n",
    "print(person2.species)\n"
   ]
  },
  {
   "cell_type": "markdown",
   "metadata": {},
   "source": [
    "**Inheritance**"
   ]
  },
  {
   "cell_type": "code",
   "execution_count": 7,
   "metadata": {},
   "outputs": [
    {
     "name": "stdout",
     "output_type": "stream",
     "text": [
      "Buddy\n",
      "Bark!\n"
     ]
    }
   ],
   "source": [
    "class Animal:\n",
    "    def __init__(self, name):\n",
    "        self.name = name\n",
    "\n",
    "    def speak(self):\n",
    "        return \"I make a sound\"\n",
    "    \n",
    "class Dog(Animal): # Dog inherits from Animal\n",
    "    def speak(self):\n",
    "        return \"Bark!\"\n",
    "    \n",
    "dog1 = Dog(\"Buddy\")\n",
    "print(dog1.name)\n",
    "print(dog1.speak())\n"
   ]
  },
  {
   "cell_type": "markdown",
   "metadata": {},
   "source": [
    "**Method Overriding**\n",
    "\n",
    "A subclass can override a method from its parent class. "
   ]
  },
  {
   "cell_type": "code",
   "execution_count": 8,
   "metadata": {},
   "outputs": [
    {
     "name": "stdout",
     "output_type": "stream",
     "text": [
      "Meow!\n"
     ]
    }
   ],
   "source": [
    "class Animal:\n",
    "    def speak(self):\n",
    "        return \"Some sound\"\n",
    "    \n",
    "class Cat(Animal):\n",
    "    def speak(self):\n",
    "        return \"Meow!\"\n",
    "    \n",
    "cat1 = Cat()\n",
    "print(cat1.speak())"
   ]
  },
  {
   "cell_type": "markdown",
   "metadata": {},
   "source": [
    "**Encapsulation (Private & Protected Members)**\n",
    "\n",
    "- Private members are prefixed with ```__```(double underscore)\n",
    "- Protected members are prefixed with ```_```(single underscore)"
   ]
  },
  {
   "cell_type": "code",
   "execution_count": null,
   "metadata": {},
   "outputs": [
    {
     "name": "stdout",
     "output_type": "stream",
     "text": [
      "Alice\n",
      "Engineer\n",
      "50000\n"
     ]
    }
   ],
   "source": [
    "class Person:\n",
    "    def __init__(self, name, age):\n",
    "        self.name = name # Public attribute\n",
    "        self.age = age # Protected attribute\n",
    "        self._job = \"Engineer\" # Private attribute\n",
    "        self.__salary = 50000\n",
    "    \n",
    "person1 = Person(\"Alice\", 25)\n",
    "print(person1.name)\n",
    "print(person1._job)\n",
    "\n",
    "print(person1._Person__salary)\n",
    "\n"
   ]
  },
  {
   "cell_type": "markdown",
   "metadata": {},
   "source": [
    "**Class Methods and Static Methods**\n",
    "\n",
    "- **Class methods** use ```@classmethod``` and work with class variables\n",
    "- **Static methods** use ```@staticmethod``` and don't need ```self``` or ```cls```"
   ]
  },
  {
   "cell_type": "code",
   "execution_count": 3,
   "metadata": {},
   "outputs": [
    {
     "name": "stdout",
     "output_type": "stream",
     "text": [
      "This is a class method\n",
      "This is a a Static method.\n"
     ]
    }
   ],
   "source": [
    "class Math:\n",
    "    @classmethod\n",
    "    def class_method(cls):\n",
    "        return \"This is a class method\"\n",
    "    \n",
    "    @staticmethod\n",
    "    def static_method():\n",
    "        return \"This is a a Static method.\"\n",
    "\n",
    "print(Math.class_method())\n",
    "print(Math.static_method())"
   ]
  },
  {
   "cell_type": "markdown",
   "metadata": {},
   "source": [
    "**Operator Overloading**"
   ]
  },
  {
   "cell_type": "code",
   "execution_count": null,
   "metadata": {},
   "outputs": [
    {
     "name": "stdout",
     "output_type": "stream",
     "text": [
      "4 6\n"
     ]
    }
   ],
   "source": [
    "class Point:\n",
    "    def __init__(self, x, y):\n",
    "        self.x = x\n",
    "        self.y = y\n",
    "    \n",
    "    def __add__(self, other):\n",
    "        # self.other = other\n",
    "        return Point(self.x + other.x, self.y + other.y)\n",
    "    \n",
    "p1 = Point(1, 2)\n",
    "p2 = Point(3, 4)\n",
    "p3 = p1 + p2\n",
    "\n",
    "print(p3.x, p3.y)"
   ]
  },
  {
   "cell_type": "markdown",
   "metadata": {},
   "source": [
    "**Data Classes** (```dataclass```)"
   ]
  },
  {
   "cell_type": "code",
   "execution_count": 9,
   "metadata": {},
   "outputs": [
    {
     "name": "stdout",
     "output_type": "stream",
     "text": [
      "Car(brand='Toyota', model='Camry', year=2022)\n"
     ]
    }
   ],
   "source": [
    "# the dataclss module makes defining classes easier\n",
    "from dataclasses import dataclass\n",
    "\n",
    "@dataclass\n",
    "class Car:\n",
    "    brand: str\n",
    "    model: str\n",
    "    year: str\n",
    "\n",
    "car1 = Car(\"Toyota\", \"Camry\", 2022)\n",
    "print(car1)"
   ]
  },
  {
   "cell_type": "markdown",
   "metadata": {},
   "source": [
    "**Abstract Classes**"
   ]
  },
  {
   "cell_type": "code",
   "execution_count": 13,
   "metadata": {},
   "outputs": [
    {
     "name": "stdout",
     "output_type": "stream",
     "text": [
      "Bark!\n"
     ]
    }
   ],
   "source": [
    "from abc import ABC, abstractmethod\n",
    "\n",
    "class Animal(ABC):\n",
    "    @abstractmethod\n",
    "    def speak(self):\n",
    "        pass\n",
    "\n",
    "class Dog(Animal):\n",
    "    def speak(self):\n",
    "        return \"Bark!\"\n",
    "    \n",
    "dog1 = Dog()\n",
    "print(dog1.speak())\n"
   ]
  },
  {
   "cell_type": "markdown",
   "metadata": {},
   "source": [
    "### **Summary**\n",
    "\n",
    "- ```class``` defines a new class.\n",
    "- ```__init__``` initializes objects.\n",
    "- Methods define object behavior.\n",
    "- ```self``` represents the instance of the class. \n",
    "- Inheritance allows a class to inherit another class. \n",
    "- ```@classmethod```, ```@staticmethod``` modify method behavior.\n",
    "- Operator overloading customizes operations between objects. "
   ]
  }
 ],
 "metadata": {
  "kernelspec": {
   "display_name": "Python 3",
   "language": "python",
   "name": "python3"
  },
  "language_info": {
   "codemirror_mode": {
    "name": "ipython",
    "version": 3
   },
   "file_extension": ".py",
   "mimetype": "text/x-python",
   "name": "python",
   "nbconvert_exporter": "python",
   "pygments_lexer": "ipython3",
   "version": "3.11.9"
  }
 },
 "nbformat": 4,
 "nbformat_minor": 2
}
